{
  "nbformat": 4,
  "nbformat_minor": 0,
  "metadata": {
    "colab": {
      "name": "NB",
      "provenance": [],
      "collapsed_sections": [
        "r8Gl-6GZlujd",
        "aMj_EW5wr6mY",
        "w2B_Dq-JusGc",
        "9RMRDyZhnSa4",
        "_iRzxouOzXeh",
        "MCAViASMzqEL",
        "92bvmi4Ly3O-",
        "umT6KsTd5wG1",
        "6lEbVwSn9UXG",
        "3TnR7LPo-Llc",
        "sWFxovZ60Myq",
        "yrxnMvP5R5Xb",
        "CvgXDrTPHuhT",
        "yp2lafo_F_pq",
        "UgQh2BL72Mqz",
        "AZtMgfev2RvM",
        "CFGKxHqACcPR",
        "5L2wSFGJ-q57",
        "-wa9H12IDjjy"
      ]
    },
    "kernelspec": {
      "name": "python3",
      "display_name": "Python 3"
    },
    "language_info": {
      "name": "python"
    }
  },
  "cells": [
    {
      "cell_type": "markdown",
      "source": [
        "#**Import libraries**"
      ],
      "metadata": {
        "id": "r8Gl-6GZlujd"
      }
    },
    {
      "cell_type": "code",
      "source": [
        "import numpy as np\n",
        "import pandas as pd\n",
        "import scipy\n",
        "import scipy.stats as stats\n",
        "import seaborn as sns\n",
        "import matplotlib.pyplot as plt\n",
        "\n",
        "from sklearn.model_selection import train_test_split  \n",
        "from sklearn.preprocessing import StandardScaler , MinMaxScaler\n",
        "from sklearn.preprocessing import OneHotEncoder,LabelEncoder\n",
        "\n",
        "from sklearn.tree import DecisionTreeClassifier\n",
        "from sklearn.ensemble import RandomForestClassifier\n",
        "from sklearn.naive_bayes import GaussianNB,MultinomialNB,CategoricalNB\n",
        "from sklearn.svm import SVC\n",
        "\n",
        "from sklearn.model_selection import GridSearchCV\n",
        "from sklearn.metrics import precision_score, recall_score, f1_score, accuracy_score, roc_curve, auc, plot_confusion_matrix, plot_roc_curve"
      ],
      "metadata": {
        "id": "smxEr2_2lcJF"
      },
      "execution_count": 170,
      "outputs": []
    },
    {
      "cell_type": "markdown",
      "source": [
        "#**Concatinate Train & Test files**"
      ],
      "metadata": {
        "id": "aMj_EW5wr6mY"
      }
    },
    {
      "cell_type": "code",
      "source": [
        "# read the train csv file \n",
        "path1= '/content/train_new.csv'\n",
        "df1= pd.read_csv(path1)\n",
        "\n",
        "# read the test csv file \n",
        "path2= '/content/test_new.csv'\n",
        "df2= pd.read_csv(path2)\n",
        "df2['rating']= 0               # add rating column to test file with value 0; to adjust the dimension of two files\n",
        "\n",
        "#concatenate the two files in one variable(df)\n",
        "df= pd.concat([df1,df2], ignore_index=True, sort=False)"
      ],
      "metadata": {
        "id": "0qV1r_qkr_hN"
      },
      "execution_count": 171,
      "outputs": []
    },
    {
      "cell_type": "markdown",
      "source": [
        "#**Get quick look on the dataset** "
      ],
      "metadata": {
        "id": "w2B_Dq-JusGc"
      }
    },
    {
      "cell_type": "code",
      "source": [
        "# display the first 5 rows of data\n",
        "df.head()"
      ],
      "metadata": {
        "colab": {
          "base_uri": "https://localhost:8080/",
          "height": 375
        },
        "id": "tOpVDVrXnHTK",
        "outputId": "f0c2ad47-fe24-4b1e-9e14-50b8bbade3f2"
      },
      "execution_count": 172,
      "outputs": [
        {
          "output_type": "execute_result",
          "data": {
            "text/html": [
              "\n",
              "  <div id=\"df-ae6c2f85-72df-4dc2-94f9-455c3cb2bccd\">\n",
              "    <div class=\"colab-df-container\">\n",
              "      <div>\n",
              "<style scoped>\n",
              "    .dataframe tbody tr th:only-of-type {\n",
              "        vertical-align: middle;\n",
              "    }\n",
              "\n",
              "    .dataframe tbody tr th {\n",
              "        vertical-align: top;\n",
              "    }\n",
              "\n",
              "    .dataframe thead th {\n",
              "        text-align: right;\n",
              "    }\n",
              "</style>\n",
              "<table border=\"1\" class=\"dataframe\">\n",
              "  <thead>\n",
              "    <tr style=\"text-align: right;\">\n",
              "      <th></th>\n",
              "      <th>price</th>\n",
              "      <th>retail_price</th>\n",
              "      <th>currency_buyer</th>\n",
              "      <th>units_sold</th>\n",
              "      <th>uses_ad_boosts</th>\n",
              "      <th>rating</th>\n",
              "      <th>rating_count</th>\n",
              "      <th>badges_count</th>\n",
              "      <th>badge_local_product</th>\n",
              "      <th>badge_product_quality</th>\n",
              "      <th>badge_fast_shipping</th>\n",
              "      <th>tags</th>\n",
              "      <th>product_color</th>\n",
              "      <th>product_variation_size_id</th>\n",
              "      <th>product_variation_inventory</th>\n",
              "      <th>shipping_option_name</th>\n",
              "      <th>shipping_option_price</th>\n",
              "      <th>shipping_is_express</th>\n",
              "      <th>countries_shipped_to</th>\n",
              "      <th>inventory_total</th>\n",
              "      <th>has_urgency_banner</th>\n",
              "      <th>urgency_text</th>\n",
              "      <th>origin_country</th>\n",
              "      <th>merchant_title</th>\n",
              "      <th>merchant_name</th>\n",
              "      <th>merchant_info_subtitle</th>\n",
              "      <th>merchant_rating_count</th>\n",
              "      <th>merchant_rating</th>\n",
              "      <th>merchant_id</th>\n",
              "      <th>merchant_has_profile_picture</th>\n",
              "      <th>merchant_profile_picture</th>\n",
              "      <th>theme</th>\n",
              "      <th>crawl_month</th>\n",
              "      <th>id</th>\n",
              "    </tr>\n",
              "  </thead>\n",
              "  <tbody>\n",
              "    <tr>\n",
              "      <th>0</th>\n",
              "      <td>8.00</td>\n",
              "      <td>7</td>\n",
              "      <td>EUR</td>\n",
              "      <td>10000</td>\n",
              "      <td>1</td>\n",
              "      <td>4.0</td>\n",
              "      <td>1670</td>\n",
              "      <td>0</td>\n",
              "      <td>0</td>\n",
              "      <td>0</td>\n",
              "      <td>0</td>\n",
              "      <td>Summer,soildcolor,Plus Size,Tank,camisole,Tops...</td>\n",
              "      <td>yellow</td>\n",
              "      <td>M</td>\n",
              "      <td>50</td>\n",
              "      <td>Livraison standard</td>\n",
              "      <td>3</td>\n",
              "      <td>0</td>\n",
              "      <td>30</td>\n",
              "      <td>50</td>\n",
              "      <td>NaN</td>\n",
              "      <td>NaN</td>\n",
              "      <td>CN</td>\n",
              "      <td>keepahorse</td>\n",
              "      <td>keepahorse</td>\n",
              "      <td>88 % avis positifs (66,644 notes)</td>\n",
              "      <td>66644</td>\n",
              "      <td>4.137582</td>\n",
              "      <td>577fb2b368116418674befd9</td>\n",
              "      <td>1</td>\n",
              "      <td>https://s3-us-west-1.amazonaws.com/sweeper-pro...</td>\n",
              "      <td>summer</td>\n",
              "      <td>2020-08</td>\n",
              "      <td>272</td>\n",
              "    </tr>\n",
              "    <tr>\n",
              "      <th>1</th>\n",
              "      <td>8.00</td>\n",
              "      <td>7</td>\n",
              "      <td>EUR</td>\n",
              "      <td>1000</td>\n",
              "      <td>0</td>\n",
              "      <td>4.0</td>\n",
              "      <td>843</td>\n",
              "      <td>1</td>\n",
              "      <td>1</td>\n",
              "      <td>0</td>\n",
              "      <td>0</td>\n",
              "      <td>bathing suit,Plus Size,bikini set,sexy swimsui...</td>\n",
              "      <td>black</td>\n",
              "      <td>L</td>\n",
              "      <td>50</td>\n",
              "      <td>Livraison standard</td>\n",
              "      <td>3</td>\n",
              "      <td>0</td>\n",
              "      <td>37</td>\n",
              "      <td>50</td>\n",
              "      <td>NaN</td>\n",
              "      <td>NaN</td>\n",
              "      <td>CN</td>\n",
              "      <td>shanghaimingqidianqikejiyouxiangongsi</td>\n",
              "      <td>上海铭启电气科技有限公司</td>\n",
              "      <td>91 % avis positifs (25,752 notes)</td>\n",
              "      <td>25752</td>\n",
              "      <td>4.256873</td>\n",
              "      <td>566a3ef17233ff2686443082</td>\n",
              "      <td>0</td>\n",
              "      <td>NaN</td>\n",
              "      <td>summer</td>\n",
              "      <td>2020-08</td>\n",
              "      <td>1515</td>\n",
              "    </tr>\n",
              "    <tr>\n",
              "      <th>2</th>\n",
              "      <td>6.00</td>\n",
              "      <td>34</td>\n",
              "      <td>EUR</td>\n",
              "      <td>100</td>\n",
              "      <td>0</td>\n",
              "      <td>4.0</td>\n",
              "      <td>10</td>\n",
              "      <td>0</td>\n",
              "      <td>0</td>\n",
              "      <td>0</td>\n",
              "      <td>0</td>\n",
              "      <td>Summer,Vest,momshirt,Get,summer t-shirts,funny...</td>\n",
              "      <td>white</td>\n",
              "      <td>L</td>\n",
              "      <td>50</td>\n",
              "      <td>Livraison standard</td>\n",
              "      <td>2</td>\n",
              "      <td>0</td>\n",
              "      <td>41</td>\n",
              "      <td>50</td>\n",
              "      <td>NaN</td>\n",
              "      <td>NaN</td>\n",
              "      <td>CN</td>\n",
              "      <td>zhaodongmei</td>\n",
              "      <td>zhaodongmei</td>\n",
              "      <td>83 % avis positifs (3,897 notes)</td>\n",
              "      <td>3897</td>\n",
              "      <td>3.928920</td>\n",
              "      <td>5aacd6c1ccf0c83e5a6f3de0</td>\n",
              "      <td>0</td>\n",
              "      <td>NaN</td>\n",
              "      <td>summer</td>\n",
              "      <td>2020-08</td>\n",
              "      <td>940</td>\n",
              "    </tr>\n",
              "    <tr>\n",
              "      <th>3</th>\n",
              "      <td>4.67</td>\n",
              "      <td>4</td>\n",
              "      <td>EUR</td>\n",
              "      <td>100</td>\n",
              "      <td>1</td>\n",
              "      <td>3.0</td>\n",
              "      <td>82</td>\n",
              "      <td>0</td>\n",
              "      <td>0</td>\n",
              "      <td>0</td>\n",
              "      <td>0</td>\n",
              "      <td>Summer,Shorts,pants,Beach,Plus Size,beachpant,...</td>\n",
              "      <td>lakeblue</td>\n",
              "      <td>XS</td>\n",
              "      <td>5</td>\n",
              "      <td>Livraison standard</td>\n",
              "      <td>1</td>\n",
              "      <td>0</td>\n",
              "      <td>25</td>\n",
              "      <td>50</td>\n",
              "      <td>NaN</td>\n",
              "      <td>NaN</td>\n",
              "      <td>CN</td>\n",
              "      <td>pookie0331</td>\n",
              "      <td>pookie0331</td>\n",
              "      <td>87 % avis positifs (7,497 notes)</td>\n",
              "      <td>7497</td>\n",
              "      <td>4.079365</td>\n",
              "      <td>583141fbfef4094e51453d9b</td>\n",
              "      <td>0</td>\n",
              "      <td>NaN</td>\n",
              "      <td>summer</td>\n",
              "      <td>2020-08</td>\n",
              "      <td>309</td>\n",
              "    </tr>\n",
              "    <tr>\n",
              "      <th>4</th>\n",
              "      <td>8.00</td>\n",
              "      <td>11</td>\n",
              "      <td>EUR</td>\n",
              "      <td>1000</td>\n",
              "      <td>0</td>\n",
              "      <td>4.0</td>\n",
              "      <td>127</td>\n",
              "      <td>0</td>\n",
              "      <td>0</td>\n",
              "      <td>0</td>\n",
              "      <td>0</td>\n",
              "      <td>Summer,Floral print,women dresses,fashion dres...</td>\n",
              "      <td>apricot</td>\n",
              "      <td>S</td>\n",
              "      <td>50</td>\n",
              "      <td>Livraison standard</td>\n",
              "      <td>3</td>\n",
              "      <td>0</td>\n",
              "      <td>15</td>\n",
              "      <td>50</td>\n",
              "      <td>1.0</td>\n",
              "      <td>Quantité limitée !</td>\n",
              "      <td>CN</td>\n",
              "      <td>shitongyi12683626</td>\n",
              "      <td>shitongyi12683626</td>\n",
              "      <td>91 % avis positifs (173 notes)</td>\n",
              "      <td>173</td>\n",
              "      <td>4.306358</td>\n",
              "      <td>5d3bc9f8e13a7e654424a4cb</td>\n",
              "      <td>0</td>\n",
              "      <td>NaN</td>\n",
              "      <td>summer</td>\n",
              "      <td>2020-08</td>\n",
              "      <td>226</td>\n",
              "    </tr>\n",
              "  </tbody>\n",
              "</table>\n",
              "</div>\n",
              "      <button class=\"colab-df-convert\" onclick=\"convertToInteractive('df-ae6c2f85-72df-4dc2-94f9-455c3cb2bccd')\"\n",
              "              title=\"Convert this dataframe to an interactive table.\"\n",
              "              style=\"display:none;\">\n",
              "        \n",
              "  <svg xmlns=\"http://www.w3.org/2000/svg\" height=\"24px\"viewBox=\"0 0 24 24\"\n",
              "       width=\"24px\">\n",
              "    <path d=\"M0 0h24v24H0V0z\" fill=\"none\"/>\n",
              "    <path d=\"M18.56 5.44l.94 2.06.94-2.06 2.06-.94-2.06-.94-.94-2.06-.94 2.06-2.06.94zm-11 1L8.5 8.5l.94-2.06 2.06-.94-2.06-.94L8.5 2.5l-.94 2.06-2.06.94zm10 10l.94 2.06.94-2.06 2.06-.94-2.06-.94-.94-2.06-.94 2.06-2.06.94z\"/><path d=\"M17.41 7.96l-1.37-1.37c-.4-.4-.92-.59-1.43-.59-.52 0-1.04.2-1.43.59L10.3 9.45l-7.72 7.72c-.78.78-.78 2.05 0 2.83L4 21.41c.39.39.9.59 1.41.59.51 0 1.02-.2 1.41-.59l7.78-7.78 2.81-2.81c.8-.78.8-2.07 0-2.86zM5.41 20L4 18.59l7.72-7.72 1.47 1.35L5.41 20z\"/>\n",
              "  </svg>\n",
              "      </button>\n",
              "      \n",
              "  <style>\n",
              "    .colab-df-container {\n",
              "      display:flex;\n",
              "      flex-wrap:wrap;\n",
              "      gap: 12px;\n",
              "    }\n",
              "\n",
              "    .colab-df-convert {\n",
              "      background-color: #E8F0FE;\n",
              "      border: none;\n",
              "      border-radius: 50%;\n",
              "      cursor: pointer;\n",
              "      display: none;\n",
              "      fill: #1967D2;\n",
              "      height: 32px;\n",
              "      padding: 0 0 0 0;\n",
              "      width: 32px;\n",
              "    }\n",
              "\n",
              "    .colab-df-convert:hover {\n",
              "      background-color: #E2EBFA;\n",
              "      box-shadow: 0px 1px 2px rgba(60, 64, 67, 0.3), 0px 1px 3px 1px rgba(60, 64, 67, 0.15);\n",
              "      fill: #174EA6;\n",
              "    }\n",
              "\n",
              "    [theme=dark] .colab-df-convert {\n",
              "      background-color: #3B4455;\n",
              "      fill: #D2E3FC;\n",
              "    }\n",
              "\n",
              "    [theme=dark] .colab-df-convert:hover {\n",
              "      background-color: #434B5C;\n",
              "      box-shadow: 0px 1px 3px 1px rgba(0, 0, 0, 0.15);\n",
              "      filter: drop-shadow(0px 1px 2px rgba(0, 0, 0, 0.3));\n",
              "      fill: #FFFFFF;\n",
              "    }\n",
              "  </style>\n",
              "\n",
              "      <script>\n",
              "        const buttonEl =\n",
              "          document.querySelector('#df-ae6c2f85-72df-4dc2-94f9-455c3cb2bccd button.colab-df-convert');\n",
              "        buttonEl.style.display =\n",
              "          google.colab.kernel.accessAllowed ? 'block' : 'none';\n",
              "\n",
              "        async function convertToInteractive(key) {\n",
              "          const element = document.querySelector('#df-ae6c2f85-72df-4dc2-94f9-455c3cb2bccd');\n",
              "          const dataTable =\n",
              "            await google.colab.kernel.invokeFunction('convertToInteractive',\n",
              "                                                     [key], {});\n",
              "          if (!dataTable) return;\n",
              "\n",
              "          const docLinkHtml = 'Like what you see? Visit the ' +\n",
              "            '<a target=\"_blank\" href=https://colab.research.google.com/notebooks/data_table.ipynb>data table notebook</a>'\n",
              "            + ' to learn more about interactive tables.';\n",
              "          element.innerHTML = '';\n",
              "          dataTable['output_type'] = 'display_data';\n",
              "          await google.colab.output.renderOutput(dataTable, element);\n",
              "          const docLink = document.createElement('div');\n",
              "          docLink.innerHTML = docLinkHtml;\n",
              "          element.appendChild(docLink);\n",
              "        }\n",
              "      </script>\n",
              "    </div>\n",
              "  </div>\n",
              "  "
            ],
            "text/plain": [
              "   price  retail_price currency_buyer  ...   theme  crawl_month    id\n",
              "0   8.00             7            EUR  ...  summer      2020-08   272\n",
              "1   8.00             7            EUR  ...  summer      2020-08  1515\n",
              "2   6.00            34            EUR  ...  summer      2020-08   940\n",
              "3   4.67             4            EUR  ...  summer      2020-08   309\n",
              "4   8.00            11            EUR  ...  summer      2020-08   226\n",
              "\n",
              "[5 rows x 34 columns]"
            ]
          },
          "metadata": {},
          "execution_count": 172
        }
      ]
    },
    {
      "cell_type": "code",
      "source": [
        "# shape of data\n",
        "df.shape"
      ],
      "metadata": {
        "id": "jBT8tnOYdiR5",
        "colab": {
          "base_uri": "https://localhost:8080/"
        },
        "outputId": "ca418667-35fe-4552-ac17-7823879ab8b7"
      },
      "execution_count": 173,
      "outputs": [
        {
          "output_type": "execute_result",
          "data": {
            "text/plain": [
              "(1573, 34)"
            ]
          },
          "metadata": {},
          "execution_count": 173
        }
      ]
    },
    {
      "cell_type": "code",
      "source": [
        "# Calculate count, mean, std, min, 25%, 50%, 75%, max values for each column (statistical summary). \n",
        "round(df.describe())"
      ],
      "metadata": {
        "id": "PnVQyzSfWiGd",
        "colab": {
          "base_uri": "https://localhost:8080/",
          "height": 364
        },
        "outputId": "9bff9e3b-1d84-4738-9111-695bfbffa651"
      },
      "execution_count": 174,
      "outputs": [
        {
          "output_type": "execute_result",
          "data": {
            "text/html": [
              "\n",
              "  <div id=\"df-cd7a3176-6ef6-454e-b834-0c775cc79d4e\">\n",
              "    <div class=\"colab-df-container\">\n",
              "      <div>\n",
              "<style scoped>\n",
              "    .dataframe tbody tr th:only-of-type {\n",
              "        vertical-align: middle;\n",
              "    }\n",
              "\n",
              "    .dataframe tbody tr th {\n",
              "        vertical-align: top;\n",
              "    }\n",
              "\n",
              "    .dataframe thead th {\n",
              "        text-align: right;\n",
              "    }\n",
              "</style>\n",
              "<table border=\"1\" class=\"dataframe\">\n",
              "  <thead>\n",
              "    <tr style=\"text-align: right;\">\n",
              "      <th></th>\n",
              "      <th>price</th>\n",
              "      <th>retail_price</th>\n",
              "      <th>units_sold</th>\n",
              "      <th>uses_ad_boosts</th>\n",
              "      <th>rating</th>\n",
              "      <th>rating_count</th>\n",
              "      <th>badges_count</th>\n",
              "      <th>badge_local_product</th>\n",
              "      <th>badge_product_quality</th>\n",
              "      <th>badge_fast_shipping</th>\n",
              "      <th>product_variation_inventory</th>\n",
              "      <th>shipping_option_price</th>\n",
              "      <th>shipping_is_express</th>\n",
              "      <th>countries_shipped_to</th>\n",
              "      <th>inventory_total</th>\n",
              "      <th>has_urgency_banner</th>\n",
              "      <th>merchant_rating_count</th>\n",
              "      <th>merchant_rating</th>\n",
              "      <th>merchant_has_profile_picture</th>\n",
              "      <th>id</th>\n",
              "    </tr>\n",
              "  </thead>\n",
              "  <tbody>\n",
              "    <tr>\n",
              "      <th>count</th>\n",
              "      <td>1573.0</td>\n",
              "      <td>1573.0</td>\n",
              "      <td>1573.0</td>\n",
              "      <td>1573.0</td>\n",
              "      <td>1573.0</td>\n",
              "      <td>1573.0</td>\n",
              "      <td>1573.0</td>\n",
              "      <td>1573.0</td>\n",
              "      <td>1573.0</td>\n",
              "      <td>1573.0</td>\n",
              "      <td>1573.0</td>\n",
              "      <td>1573.0</td>\n",
              "      <td>1573.0</td>\n",
              "      <td>1573.0</td>\n",
              "      <td>1573.0</td>\n",
              "      <td>473.0</td>\n",
              "      <td>1573.0</td>\n",
              "      <td>1573.0</td>\n",
              "      <td>1573.0</td>\n",
              "      <td>1573.0</td>\n",
              "    </tr>\n",
              "    <tr>\n",
              "      <th>mean</th>\n",
              "      <td>8.0</td>\n",
              "      <td>23.0</td>\n",
              "      <td>4339.0</td>\n",
              "      <td>0.0</td>\n",
              "      <td>3.0</td>\n",
              "      <td>890.0</td>\n",
              "      <td>0.0</td>\n",
              "      <td>0.0</td>\n",
              "      <td>0.0</td>\n",
              "      <td>0.0</td>\n",
              "      <td>33.0</td>\n",
              "      <td>2.0</td>\n",
              "      <td>0.0</td>\n",
              "      <td>40.0</td>\n",
              "      <td>50.0</td>\n",
              "      <td>1.0</td>\n",
              "      <td>26496.0</td>\n",
              "      <td>4.0</td>\n",
              "      <td>0.0</td>\n",
              "      <td>786.0</td>\n",
              "    </tr>\n",
              "    <tr>\n",
              "      <th>std</th>\n",
              "      <td>4.0</td>\n",
              "      <td>30.0</td>\n",
              "      <td>9357.0</td>\n",
              "      <td>0.0</td>\n",
              "      <td>2.0</td>\n",
              "      <td>1984.0</td>\n",
              "      <td>0.0</td>\n",
              "      <td>0.0</td>\n",
              "      <td>0.0</td>\n",
              "      <td>0.0</td>\n",
              "      <td>21.0</td>\n",
              "      <td>1.0</td>\n",
              "      <td>0.0</td>\n",
              "      <td>20.0</td>\n",
              "      <td>3.0</td>\n",
              "      <td>0.0</td>\n",
              "      <td>78474.0</td>\n",
              "      <td>0.0</td>\n",
              "      <td>0.0</td>\n",
              "      <td>454.0</td>\n",
              "    </tr>\n",
              "    <tr>\n",
              "      <th>min</th>\n",
              "      <td>1.0</td>\n",
              "      <td>1.0</td>\n",
              "      <td>1.0</td>\n",
              "      <td>0.0</td>\n",
              "      <td>0.0</td>\n",
              "      <td>0.0</td>\n",
              "      <td>0.0</td>\n",
              "      <td>0.0</td>\n",
              "      <td>0.0</td>\n",
              "      <td>0.0</td>\n",
              "      <td>1.0</td>\n",
              "      <td>1.0</td>\n",
              "      <td>0.0</td>\n",
              "      <td>6.0</td>\n",
              "      <td>1.0</td>\n",
              "      <td>1.0</td>\n",
              "      <td>0.0</td>\n",
              "      <td>2.0</td>\n",
              "      <td>0.0</td>\n",
              "      <td>0.0</td>\n",
              "    </tr>\n",
              "    <tr>\n",
              "      <th>25%</th>\n",
              "      <td>6.0</td>\n",
              "      <td>7.0</td>\n",
              "      <td>100.0</td>\n",
              "      <td>0.0</td>\n",
              "      <td>0.0</td>\n",
              "      <td>24.0</td>\n",
              "      <td>0.0</td>\n",
              "      <td>0.0</td>\n",
              "      <td>0.0</td>\n",
              "      <td>0.0</td>\n",
              "      <td>6.0</td>\n",
              "      <td>2.0</td>\n",
              "      <td>0.0</td>\n",
              "      <td>31.0</td>\n",
              "      <td>50.0</td>\n",
              "      <td>1.0</td>\n",
              "      <td>1987.0</td>\n",
              "      <td>4.0</td>\n",
              "      <td>0.0</td>\n",
              "      <td>393.0</td>\n",
              "    </tr>\n",
              "    <tr>\n",
              "      <th>50%</th>\n",
              "      <td>8.0</td>\n",
              "      <td>10.0</td>\n",
              "      <td>1000.0</td>\n",
              "      <td>0.0</td>\n",
              "      <td>4.0</td>\n",
              "      <td>150.0</td>\n",
              "      <td>0.0</td>\n",
              "      <td>0.0</td>\n",
              "      <td>0.0</td>\n",
              "      <td>0.0</td>\n",
              "      <td>50.0</td>\n",
              "      <td>2.0</td>\n",
              "      <td>0.0</td>\n",
              "      <td>40.0</td>\n",
              "      <td>50.0</td>\n",
              "      <td>1.0</td>\n",
              "      <td>7936.0</td>\n",
              "      <td>4.0</td>\n",
              "      <td>0.0</td>\n",
              "      <td>786.0</td>\n",
              "    </tr>\n",
              "    <tr>\n",
              "      <th>75%</th>\n",
              "      <td>11.0</td>\n",
              "      <td>26.0</td>\n",
              "      <td>5000.0</td>\n",
              "      <td>1.0</td>\n",
              "      <td>4.0</td>\n",
              "      <td>855.0</td>\n",
              "      <td>0.0</td>\n",
              "      <td>0.0</td>\n",
              "      <td>0.0</td>\n",
              "      <td>0.0</td>\n",
              "      <td>50.0</td>\n",
              "      <td>3.0</td>\n",
              "      <td>0.0</td>\n",
              "      <td>43.0</td>\n",
              "      <td>50.0</td>\n",
              "      <td>1.0</td>\n",
              "      <td>24564.0</td>\n",
              "      <td>4.0</td>\n",
              "      <td>0.0</td>\n",
              "      <td>1179.0</td>\n",
              "    </tr>\n",
              "    <tr>\n",
              "      <th>max</th>\n",
              "      <td>49.0</td>\n",
              "      <td>252.0</td>\n",
              "      <td>100000.0</td>\n",
              "      <td>1.0</td>\n",
              "      <td>6.0</td>\n",
              "      <td>20744.0</td>\n",
              "      <td>3.0</td>\n",
              "      <td>1.0</td>\n",
              "      <td>1.0</td>\n",
              "      <td>1.0</td>\n",
              "      <td>50.0</td>\n",
              "      <td>12.0</td>\n",
              "      <td>1.0</td>\n",
              "      <td>140.0</td>\n",
              "      <td>50.0</td>\n",
              "      <td>1.0</td>\n",
              "      <td>2174765.0</td>\n",
              "      <td>5.0</td>\n",
              "      <td>1.0</td>\n",
              "      <td>1572.0</td>\n",
              "    </tr>\n",
              "  </tbody>\n",
              "</table>\n",
              "</div>\n",
              "      <button class=\"colab-df-convert\" onclick=\"convertToInteractive('df-cd7a3176-6ef6-454e-b834-0c775cc79d4e')\"\n",
              "              title=\"Convert this dataframe to an interactive table.\"\n",
              "              style=\"display:none;\">\n",
              "        \n",
              "  <svg xmlns=\"http://www.w3.org/2000/svg\" height=\"24px\"viewBox=\"0 0 24 24\"\n",
              "       width=\"24px\">\n",
              "    <path d=\"M0 0h24v24H0V0z\" fill=\"none\"/>\n",
              "    <path d=\"M18.56 5.44l.94 2.06.94-2.06 2.06-.94-2.06-.94-.94-2.06-.94 2.06-2.06.94zm-11 1L8.5 8.5l.94-2.06 2.06-.94-2.06-.94L8.5 2.5l-.94 2.06-2.06.94zm10 10l.94 2.06.94-2.06 2.06-.94-2.06-.94-.94-2.06-.94 2.06-2.06.94z\"/><path d=\"M17.41 7.96l-1.37-1.37c-.4-.4-.92-.59-1.43-.59-.52 0-1.04.2-1.43.59L10.3 9.45l-7.72 7.72c-.78.78-.78 2.05 0 2.83L4 21.41c.39.39.9.59 1.41.59.51 0 1.02-.2 1.41-.59l7.78-7.78 2.81-2.81c.8-.78.8-2.07 0-2.86zM5.41 20L4 18.59l7.72-7.72 1.47 1.35L5.41 20z\"/>\n",
              "  </svg>\n",
              "      </button>\n",
              "      \n",
              "  <style>\n",
              "    .colab-df-container {\n",
              "      display:flex;\n",
              "      flex-wrap:wrap;\n",
              "      gap: 12px;\n",
              "    }\n",
              "\n",
              "    .colab-df-convert {\n",
              "      background-color: #E8F0FE;\n",
              "      border: none;\n",
              "      border-radius: 50%;\n",
              "      cursor: pointer;\n",
              "      display: none;\n",
              "      fill: #1967D2;\n",
              "      height: 32px;\n",
              "      padding: 0 0 0 0;\n",
              "      width: 32px;\n",
              "    }\n",
              "\n",
              "    .colab-df-convert:hover {\n",
              "      background-color: #E2EBFA;\n",
              "      box-shadow: 0px 1px 2px rgba(60, 64, 67, 0.3), 0px 1px 3px 1px rgba(60, 64, 67, 0.15);\n",
              "      fill: #174EA6;\n",
              "    }\n",
              "\n",
              "    [theme=dark] .colab-df-convert {\n",
              "      background-color: #3B4455;\n",
              "      fill: #D2E3FC;\n",
              "    }\n",
              "\n",
              "    [theme=dark] .colab-df-convert:hover {\n",
              "      background-color: #434B5C;\n",
              "      box-shadow: 0px 1px 3px 1px rgba(0, 0, 0, 0.15);\n",
              "      filter: drop-shadow(0px 1px 2px rgba(0, 0, 0, 0.3));\n",
              "      fill: #FFFFFF;\n",
              "    }\n",
              "  </style>\n",
              "\n",
              "      <script>\n",
              "        const buttonEl =\n",
              "          document.querySelector('#df-cd7a3176-6ef6-454e-b834-0c775cc79d4e button.colab-df-convert');\n",
              "        buttonEl.style.display =\n",
              "          google.colab.kernel.accessAllowed ? 'block' : 'none';\n",
              "\n",
              "        async function convertToInteractive(key) {\n",
              "          const element = document.querySelector('#df-cd7a3176-6ef6-454e-b834-0c775cc79d4e');\n",
              "          const dataTable =\n",
              "            await google.colab.kernel.invokeFunction('convertToInteractive',\n",
              "                                                     [key], {});\n",
              "          if (!dataTable) return;\n",
              "\n",
              "          const docLinkHtml = 'Like what you see? Visit the ' +\n",
              "            '<a target=\"_blank\" href=https://colab.research.google.com/notebooks/data_table.ipynb>data table notebook</a>'\n",
              "            + ' to learn more about interactive tables.';\n",
              "          element.innerHTML = '';\n",
              "          dataTable['output_type'] = 'display_data';\n",
              "          await google.colab.output.renderOutput(dataTable, element);\n",
              "          const docLink = document.createElement('div');\n",
              "          docLink.innerHTML = docLinkHtml;\n",
              "          element.appendChild(docLink);\n",
              "        }\n",
              "      </script>\n",
              "    </div>\n",
              "  </div>\n",
              "  "
            ],
            "text/plain": [
              "        price  retail_price  ...  merchant_has_profile_picture      id\n",
              "count  1573.0        1573.0  ...                        1573.0  1573.0\n",
              "mean      8.0          23.0  ...                           0.0   786.0\n",
              "std       4.0          30.0  ...                           0.0   454.0\n",
              "min       1.0           1.0  ...                           0.0     0.0\n",
              "25%       6.0           7.0  ...                           0.0   393.0\n",
              "50%       8.0          10.0  ...                           0.0   786.0\n",
              "75%      11.0          26.0  ...                           0.0  1179.0\n",
              "max      49.0         252.0  ...                           1.0  1572.0\n",
              "\n",
              "[8 rows x 20 columns]"
            ]
          },
          "metadata": {},
          "execution_count": 174
        }
      ]
    },
    {
      "cell_type": "markdown",
      "source": [
        "**Observations** \n",
        "\n",
        "There is a difference between mean and median in some columns so the values are not normally distributed:\n",
        "\n",
        "* The distribution is positively skewed **(Mean > Median)** in: \n",
        "\n",
        "    >retail_price, units_sold,rating_count, merchant_rating_count \n",
        "\n",
        "* The distribution is negatively skewed **(Mean < Median)** in: \n",
        "    >rating, product_variation_inventory\n",
        "\n",
        "* The distribution is normally **(Mean = Median)** in other columns\n"
      ],
      "metadata": {
        "id": "HYRFWy7uBE1W"
      }
    },
    {
      "cell_type": "code",
      "source": [
        "# data info (id,name,count,dtype of each feature)\n",
        "df.info()"
      ],
      "metadata": {
        "id": "Qu0r8hYYU1v9",
        "colab": {
          "base_uri": "https://localhost:8080/"
        },
        "outputId": "3c676664-852b-40fd-8946-73f63b12d843"
      },
      "execution_count": 175,
      "outputs": [
        {
          "output_type": "stream",
          "name": "stdout",
          "text": [
            "<class 'pandas.core.frame.DataFrame'>\n",
            "RangeIndex: 1573 entries, 0 to 1572\n",
            "Data columns (total 34 columns):\n",
            " #   Column                        Non-Null Count  Dtype  \n",
            "---  ------                        --------------  -----  \n",
            " 0   price                         1573 non-null   float64\n",
            " 1   retail_price                  1573 non-null   int64  \n",
            " 2   currency_buyer                1573 non-null   object \n",
            " 3   units_sold                    1573 non-null   int64  \n",
            " 4   uses_ad_boosts                1573 non-null   int64  \n",
            " 5   rating                        1573 non-null   float64\n",
            " 6   rating_count                  1573 non-null   int64  \n",
            " 7   badges_count                  1573 non-null   int64  \n",
            " 8   badge_local_product           1573 non-null   int64  \n",
            " 9   badge_product_quality         1573 non-null   int64  \n",
            " 10  badge_fast_shipping           1573 non-null   int64  \n",
            " 11  tags                          1573 non-null   object \n",
            " 12  product_color                 1532 non-null   object \n",
            " 13  product_variation_size_id     1559 non-null   object \n",
            " 14  product_variation_inventory   1573 non-null   int64  \n",
            " 15  shipping_option_name          1573 non-null   object \n",
            " 16  shipping_option_price         1573 non-null   int64  \n",
            " 17  shipping_is_express           1573 non-null   int64  \n",
            " 18  countries_shipped_to          1573 non-null   int64  \n",
            " 19  inventory_total               1573 non-null   int64  \n",
            " 20  has_urgency_banner            473 non-null    float64\n",
            " 21  urgency_text                  473 non-null    object \n",
            " 22  origin_country                1556 non-null   object \n",
            " 23  merchant_title                1573 non-null   object \n",
            " 24  merchant_name                 1569 non-null   object \n",
            " 25  merchant_info_subtitle        1572 non-null   object \n",
            " 26  merchant_rating_count         1573 non-null   int64  \n",
            " 27  merchant_rating               1573 non-null   float64\n",
            " 28  merchant_id                   1573 non-null   object \n",
            " 29  merchant_has_profile_picture  1573 non-null   int64  \n",
            " 30  merchant_profile_picture      226 non-null    object \n",
            " 31  theme                         1573 non-null   object \n",
            " 32  crawl_month                   1573 non-null   object \n",
            " 33  id                            1573 non-null   int64  \n",
            "dtypes: float64(4), int64(16), object(14)\n",
            "memory usage: 418.0+ KB\n"
          ]
        }
      ]
    },
    {
      "cell_type": "markdown",
      "source": [
        "**Observation #1:** Columns with object datatype can be converted to 'int' for convenience.\n",
        "\n",
        "**Observation #2:** Some columns containing missing values."
      ],
      "metadata": {
        "id": "fMtNMEVUpOmV"
      }
    },
    {
      "cell_type": "code",
      "source": [
        "# display column names that contain NaN values\n",
        "df.columns[df.isna().any()].tolist()\n",
        "\n",
        "#if we want to display them as dataframe \n",
        "#pd.DataFrame(df.columns[df.isna().any()], columns=['Features contain NaN values'])"
      ],
      "metadata": {
        "colab": {
          "base_uri": "https://localhost:8080/"
        },
        "id": "9tP77CpX9003",
        "outputId": "364bf3d3-10bb-49ab-b4c3-0506d9ffda36"
      },
      "execution_count": 176,
      "outputs": [
        {
          "output_type": "execute_result",
          "data": {
            "text/plain": [
              "['product_color',\n",
              " 'product_variation_size_id',\n",
              " 'has_urgency_banner',\n",
              " 'urgency_text',\n",
              " 'origin_country',\n",
              " 'merchant_name',\n",
              " 'merchant_info_subtitle',\n",
              " 'merchant_profile_picture']"
            ]
          },
          "metadata": {},
          "execution_count": 176
        }
      ]
    },
    {
      "cell_type": "markdown",
      "source": [
        "**Observation:** The above 8 columns contain missing values."
      ],
      "metadata": {
        "id": "DvMqLhjCFpzo"
      }
    },
    {
      "cell_type": "code",
      "source": [
        "# display the correlation between the features and the output(rating)\n",
        "df.corr().loc['rating']"
      ],
      "metadata": {
        "id": "AzOFFgK2U1yR",
        "colab": {
          "base_uri": "https://localhost:8080/"
        },
        "outputId": "cb60b94f-0b29-43ed-928f-613fbe6b109c"
      },
      "execution_count": 177,
      "outputs": [
        {
          "output_type": "execute_result",
          "data": {
            "text/plain": [
              "price                           0.047734\n",
              "retail_price                    0.039670\n",
              "units_sold                      0.030689\n",
              "uses_ad_boosts                 -0.011796\n",
              "rating                          1.000000\n",
              "rating_count                    0.024608\n",
              "badges_count                    0.088523\n",
              "badge_local_product             0.010393\n",
              "badge_product_quality           0.110506\n",
              "badge_fast_shipping            -0.002165\n",
              "product_variation_inventory    -0.008380\n",
              "shipping_option_price           0.043286\n",
              "shipping_is_express             0.018891\n",
              "countries_shipped_to            0.007232\n",
              "inventory_total                -0.008199\n",
              "has_urgency_banner                   NaN\n",
              "merchant_rating_count           0.017720\n",
              "merchant_rating                 0.072626\n",
              "merchant_has_profile_picture    0.054426\n",
              "id                             -0.031826\n",
              "Name: rating, dtype: float64"
            ]
          },
          "metadata": {},
          "execution_count": 177
        }
      ]
    },
    {
      "cell_type": "markdown",
      "source": [
        "**Observation:** The NaN, in case of **'has_urgency_banner'** column,is interpreted as no correlation between the two variables."
      ],
      "metadata": {
        "id": "KYfW0aZD-BLz"
      }
    },
    {
      "cell_type": "code",
      "source": [
        "# display the number of unique values for each column   \n",
        "df.nunique()"
      ],
      "metadata": {
        "id": "DKdsNFtAc9Vp",
        "colab": {
          "base_uri": "https://localhost:8080/"
        },
        "outputId": "d10f5ca8-1180-4f47-ca88-fe2839dbf7cb"
      },
      "execution_count": 178,
      "outputs": [
        {
          "output_type": "execute_result",
          "data": {
            "text/plain": [
              "price                            127\n",
              "retail_price                     104\n",
              "currency_buyer                     1\n",
              "units_sold                        15\n",
              "uses_ad_boosts                     2\n",
              "rating                             7\n",
              "rating_count                     761\n",
              "badges_count                       4\n",
              "badge_local_product                2\n",
              "badge_product_quality              2\n",
              "badge_fast_shipping                2\n",
              "tags                            1230\n",
              "product_color                    101\n",
              "product_variation_size_id        106\n",
              "product_variation_inventory       48\n",
              "shipping_option_name              15\n",
              "shipping_option_price              8\n",
              "shipping_is_express                2\n",
              "countries_shipped_to              94\n",
              "inventory_total                   10\n",
              "has_urgency_banner                 1\n",
              "urgency_text                       2\n",
              "origin_country                     6\n",
              "merchant_title                   958\n",
              "merchant_name                    957\n",
              "merchant_info_subtitle          1058\n",
              "merchant_rating_count            917\n",
              "merchant_rating                  952\n",
              "merchant_id                      958\n",
              "merchant_has_profile_picture       2\n",
              "merchant_profile_picture         125\n",
              "theme                              1\n",
              "crawl_month                        1\n",
              "id                              1573\n",
              "dtype: int64"
            ]
          },
          "metadata": {},
          "execution_count": 178
        }
      ]
    },
    {
      "cell_type": "markdown",
      "source": [
        "**Observation:** There are some columns that have only one unique value, we must drop them later as they won't affect our classification"
      ],
      "metadata": {
        "id": "XO0YTCjR-26N"
      }
    },
    {
      "cell_type": "code",
      "source": [
        "# columns that contain one unique value\n",
        "df.columns[df.nunique()==1].tolist()"
      ],
      "metadata": {
        "colab": {
          "base_uri": "https://localhost:8080/"
        },
        "id": "GiIcXH9J_kBv",
        "outputId": "7ac689f7-7f0a-4d60-9a98-f24261cb3571"
      },
      "execution_count": 179,
      "outputs": [
        {
          "output_type": "execute_result",
          "data": {
            "text/plain": [
              "['currency_buyer', 'has_urgency_banner', 'theme', 'crawl_month']"
            ]
          },
          "metadata": {},
          "execution_count": 179
        }
      ]
    },
    {
      "cell_type": "markdown",
      "source": [
        "**Observation:** The above 4 columns have only one unique value, so have no effect on our classification. So I should drop them."
      ],
      "metadata": {
        "id": "1j9ME4iZhUlS"
      }
    },
    {
      "cell_type": "code",
      "source": [
        "#Count the number of null values in each column\n",
        "df.isnull().sum()"
      ],
      "metadata": {
        "colab": {
          "base_uri": "https://localhost:8080/"
        },
        "id": "rogYuTxb1iB2",
        "outputId": "78ffcbcf-7e29-4687-ddb8-72b2f5d4c12b"
      },
      "execution_count": 180,
      "outputs": [
        {
          "output_type": "execute_result",
          "data": {
            "text/plain": [
              "price                              0\n",
              "retail_price                       0\n",
              "currency_buyer                     0\n",
              "units_sold                         0\n",
              "uses_ad_boosts                     0\n",
              "rating                             0\n",
              "rating_count                       0\n",
              "badges_count                       0\n",
              "badge_local_product                0\n",
              "badge_product_quality              0\n",
              "badge_fast_shipping                0\n",
              "tags                               0\n",
              "product_color                     41\n",
              "product_variation_size_id         14\n",
              "product_variation_inventory        0\n",
              "shipping_option_name               0\n",
              "shipping_option_price              0\n",
              "shipping_is_express                0\n",
              "countries_shipped_to               0\n",
              "inventory_total                    0\n",
              "has_urgency_banner              1100\n",
              "urgency_text                    1100\n",
              "origin_country                    17\n",
              "merchant_title                     0\n",
              "merchant_name                      4\n",
              "merchant_info_subtitle             1\n",
              "merchant_rating_count              0\n",
              "merchant_rating                    0\n",
              "merchant_id                        0\n",
              "merchant_has_profile_picture       0\n",
              "merchant_profile_picture        1347\n",
              "theme                              0\n",
              "crawl_month                        0\n",
              "id                                 0\n",
              "dtype: int64"
            ]
          },
          "metadata": {},
          "execution_count": 180
        }
      ]
    },
    {
      "cell_type": "markdown",
      "source": [
        "**Observasions**\n",
        "\n",
        "* Product color and size variation has 29 and 12 null values respectively. Perhaps this products have no variations?\n",
        "\n",
        "* Origin countries have 12 null values. I might replace this with the mode if necessary.\n",
        "\n",
        "* Surprisingly there are 4 missing merchant names.\n",
        "\n",
        "* There are 924 missing merchant profile pictures. I am expecting this to match with 'zeros' in 'merchant_has_profile_picture'.\n",
        "\n",
        "* the 3 columns 'has_urgency_banner','urgency_text','merchant_profile_picture' seem to have many missing values. I might drop them if i found them are not necessary."
      ],
      "metadata": {
        "id": "Unoyw48-3nUQ"
      }
    },
    {
      "cell_type": "code",
      "source": [
        "#display the uique values with its count in the column\n",
        "df['has_urgency_banner'].value_counts()"
      ],
      "metadata": {
        "colab": {
          "base_uri": "https://localhost:8080/"
        },
        "id": "tKruFZczmUel",
        "outputId": "5d71a161-1c5e-423b-89e6-e8982b8e7c9b"
      },
      "execution_count": 181,
      "outputs": [
        {
          "output_type": "execute_result",
          "data": {
            "text/plain": [
              "1.0    473\n",
              "Name: has_urgency_banner, dtype: int64"
            ]
          },
          "metadata": {},
          "execution_count": 181
        }
      ]
    },
    {
      "cell_type": "code",
      "source": [
        "#display the uique values with its count in the column\n",
        "df['urgency_text'].value_counts()"
      ],
      "metadata": {
        "colab": {
          "base_uri": "https://localhost:8080/"
        },
        "id": "OlXgjEFTmyO8",
        "outputId": "5f8846b3-7eae-4253-ca84-78159d3e7adb"
      },
      "execution_count": 182,
      "outputs": [
        {
          "output_type": "execute_result",
          "data": {
            "text/plain": [
              "Quantité limitée !                  472\n",
              "Réduction sur les achats en gros      1\n",
              "Name: urgency_text, dtype: int64"
            ]
          },
          "metadata": {},
          "execution_count": 182
        }
      ]
    },
    {
      "cell_type": "code",
      "source": [
        "#display the uique values with its count in the column\n",
        "df['merchant_profile_picture'].value_counts()"
      ],
      "metadata": {
        "colab": {
          "base_uri": "https://localhost:8080/"
        },
        "id": "EujPcxkym4ax",
        "outputId": "50892e28-e9b3-48ca-f2ba-c1036a3799a4"
      },
      "execution_count": 183,
      "outputs": [
        {
          "output_type": "execute_result",
          "data": {
            "text/plain": [
              "https://s3-us-west-1.amazonaws.com/sweeper-production-merchantimage/dp_5acaf29d5ebcfd72403106a8.jpg    12\n",
              "https://s3-us-west-1.amazonaws.com/sweeper-production-merchantimage/dp_5533c83986ff95173dc017d0.jpg     8\n",
              "https://s3-us-west-1.amazonaws.com/sweeper-production-merchantimage/dp_58ad449708de0c6dc59d9e06.jpg     6\n",
              "https://s3-us-west-1.amazonaws.com/sweeper-production-merchantimage/dp_55c8a4c33a698c6010edcd9e.jpg     6\n",
              "https://s3-us-west-1.amazonaws.com/sweeper-production-merchantimage/dp_577fb2b368116418674befd9.jpg     5\n",
              "                                                                                                       ..\n",
              "https://s3-us-west-1.amazonaws.com/sweeper-production-merchantimage/dp_58a3f270e269ee522580e6bb.jpg     1\n",
              "https://s3-us-west-1.amazonaws.com/sweeper-production-merchantimage/dp_547465748edcfa6ceab14f70.jpg     1\n",
              "https://s3-us-west-1.amazonaws.com/sweeper-production-merchantimage/dp_56db028b3a9cb801c374b3c6.jpg     1\n",
              "https://s3-us-west-1.amazonaws.com/sweeper-production-merchantimage/dp_56680c90e363a3613607ea61.jpg     1\n",
              "https://s3-us-west-1.amazonaws.com/sweeper-production-merchantimage/dp_5440df5815133758cf40f1e3.jpg     1\n",
              "Name: merchant_profile_picture, Length: 125, dtype: int64"
            ]
          },
          "metadata": {},
          "execution_count": 183
        }
      ]
    },
    {
      "cell_type": "markdown",
      "source": [
        "**Observation:** The above 3 columns have only one unique value & many missing data. So I should drop them"
      ],
      "metadata": {
        "id": "kO3wHdzYnTg9"
      }
    },
    {
      "cell_type": "markdown",
      "source": [
        "*Check the features which are highly correlated*"
      ],
      "metadata": {
        "id": "8zwp3DltWMaB"
      }
    },
    {
      "cell_type": "code",
      "source": [
        "#Creating the Correlation matrix\n",
        "cor_matrix = df.corr().abs()\n",
        "\n",
        "#Select the upper triangular\n",
        "upper_tri = cor_matrix.where(np.triu(np.ones(cor_matrix.shape),k=1).astype(bool))\n",
        "\n",
        "#Select the columns which are having absolute correlation greater than 0.95 and making a list of those columns named 'to_drop'\n",
        "to_drop = [column for column in upper_tri.columns if any(upper_tri[column] > 0.95)]\n",
        "\n",
        "print(); print(to_drop)"
      ],
      "metadata": {
        "colab": {
          "base_uri": "https://localhost:8080/"
        },
        "id": "Ioigp1bAqvHV",
        "outputId": "70bdf088-5d1c-4c33-faf8-ff1b01e1dc4b"
      },
      "execution_count": 184,
      "outputs": [
        {
          "output_type": "stream",
          "name": "stdout",
          "text": [
            "\n",
            "[]\n"
          ]
        }
      ]
    },
    {
      "cell_type": "markdown",
      "source": [
        "**Observasion:** There are no columns with highly strong correlation "
      ],
      "metadata": {
        "id": "gQsZQbeQYWBe"
      }
    },
    {
      "cell_type": "code",
      "source": [
        "#check duplicated values\n",
        "duplicates=df.duplicated()\n",
        "sum(duplicates)"
      ],
      "metadata": {
        "colab": {
          "base_uri": "https://localhost:8080/"
        },
        "id": "MapQvGpvyreT",
        "outputId": "3c423baf-f20c-4bda-f2ac-843b42ba2cc2"
      },
      "execution_count": 185,
      "outputs": [
        {
          "output_type": "execute_result",
          "data": {
            "text/plain": [
              "0"
            ]
          },
          "metadata": {},
          "execution_count": 185
        }
      ]
    },
    {
      "cell_type": "markdown",
      "source": [
        "**Observasion:** There are no duplications in the data"
      ],
      "metadata": {
        "id": "o5Xd3HqpzLGJ"
      }
    },
    {
      "cell_type": "markdown",
      "source": [
        "##**Discover the rest of columns**"
      ],
      "metadata": {
        "id": "h3JheNAzy_Nf"
      }
    },
    {
      "cell_type": "markdown",
      "source": [
        "###**Rating**"
      ],
      "metadata": {
        "id": "9RMRDyZhnSa4"
      }
    },
    {
      "cell_type": "code",
      "source": [
        "#display the output column unique values\n",
        "df['rating'].unique()"
      ],
      "metadata": {
        "colab": {
          "base_uri": "https://localhost:8080/"
        },
        "id": "Rh5ko06-kM3h",
        "outputId": "d01e8f6e-cead-4c10-f956-48cff4fce4c3"
      },
      "execution_count": 186,
      "outputs": [
        {
          "output_type": "execute_result",
          "data": {
            "text/plain": [
              "array([4., 3., 5., 2., 1., 6., 0.])"
            ]
          },
          "metadata": {},
          "execution_count": 186
        }
      ]
    },
    {
      "cell_type": "markdown",
      "source": [
        "**Observasion:**\n",
        "\n",
        "*  The range of rating is from 1 to 6.\n",
        "*  0 rating isnot included as it is for test data file which we added myself at the begining. "
      ],
      "metadata": {
        "id": "vY353CUyn5an"
      }
    },
    {
      "cell_type": "code",
      "source": [
        "#display the output value counts for each unique value\n",
        "df['rating'].value_counts()"
      ],
      "metadata": {
        "colab": {
          "base_uri": "https://localhost:8080/"
        },
        "id": "LOMhcBgKnslE",
        "outputId": "282dbc62-742d-4c59-d761-30e2ed5c193c"
      },
      "execution_count": 187,
      "outputs": [
        {
          "output_type": "execute_result",
          "data": {
            "text/plain": [
              "4.0    774\n",
              "0.0    479\n",
              "5.0    170\n",
              "3.0    135\n",
              "2.0     12\n",
              "1.0      2\n",
              "6.0      1\n",
              "Name: rating, dtype: int64"
            ]
          },
          "metadata": {},
          "execution_count": 187
        }
      ]
    },
    {
      "cell_type": "markdown",
      "source": [
        "**Observasion:** There is one data point that contains the rate 6. \n",
        "\n",
        "> So I will convert it to rate 4 (as it the most frequent) and even not to be outlier."
      ],
      "metadata": {
        "id": "hfFZ4bZXoeeB"
      }
    },
    {
      "cell_type": "markdown",
      "source": [
        "###**product_color**"
      ],
      "metadata": {
        "id": "_iRzxouOzXeh"
      }
    },
    {
      "cell_type": "code",
      "source": [
        "#display the unique values for the column\n",
        "df['product_color'].unique()"
      ],
      "metadata": {
        "colab": {
          "base_uri": "https://localhost:8080/"
        },
        "id": "2u715YQf9Zxe",
        "outputId": "90956d68-b1bc-47e8-90ee-7bf354f06252"
      },
      "execution_count": 188,
      "outputs": [
        {
          "output_type": "execute_result",
          "data": {
            "text/plain": [
              "array(['yellow', 'black', 'white', 'lakeblue', 'apricot', 'brown',\n",
              "       'winered', 'blue', 'red', 'navyblue', 'green', 'khaki', 'White',\n",
              "       'white & green', 'multicolor', 'lightpink', 'pink', 'RED',\n",
              "       'armygreen', 'lightblue', nan, 'coffee', 'grey', 'skyblue',\n",
              "       'watermelonred', 'pink & black', 'whitefloral', 'purple', 'navy',\n",
              "       'pink & white', 'rosered', 'orange', 'Black', 'mintgreen',\n",
              "       'leopardprint', 'gray', 'navy blue', 'star', 'rose', 'lightyellow',\n",
              "       'camouflage', 'black & yellow', 'whitestripe', 'navyblue & white',\n",
              "       'black & blue', 'lightred', 'violet', 'gold', 'black & green',\n",
              "       'white & black', 'burgundy', 'black & white', 'lightgrey',\n",
              "       'coolblack', 'lightgreen', 'beige', 'darkblue', 'darkgreen',\n",
              "       'silver', 'wine red', 'Army green', 'pink & blue', 'rainbow',\n",
              "       'claret', 'floral', 'brown & yellow', 'light green', 'Pink',\n",
              "       'blue & pink', 'dustypink', 'camel', 'orange-red', 'rosegold',\n",
              "       'ivory', 'fluorescentgreen', 'winered & yellow', 'offwhite',\n",
              "       'lightgray', 'wine', 'army', 'applegreen', 'nude', 'pink & grey',\n",
              "       'Rose red', 'denimblue', 'blackwhite', 'Blue', 'leopard',\n",
              "       'coralred', 'tan', 'orange & camouflage', 'army green', 'offblack',\n",
              "       'jasper', 'white & red', 'red & blue', 'greysnakeskinprint',\n",
              "       'lightpurple', 'black & stripe', 'lightkhaki', 'prussianblue',\n",
              "       'gray & white'], dtype=object)"
            ]
          },
          "metadata": {},
          "execution_count": 188
        }
      ]
    },
    {
      "cell_type": "markdown",
      "source": [
        "**Observasion:** There are some errors in labelling the color. \n",
        "\n",
        "> * Example (White=white) but it is existed as 2 types.\n",
        "\n",
        "> I will deal with this column later if it is necessary."
      ],
      "metadata": {
        "id": "he7A3uKC97ca"
      }
    },
    {
      "cell_type": "markdown",
      "source": [
        "###**product_variation_size_id**"
      ],
      "metadata": {
        "id": "W5EON_6Czfi7"
      }
    },
    {
      "cell_type": "code",
      "source": [
        "#display the unique values for the column\n",
        "df['product_variation_size_id'].unique()"
      ],
      "metadata": {
        "colab": {
          "base_uri": "https://localhost:8080/"
        },
        "id": "t3AyQ92K9dEw",
        "outputId": "c7b2d464-907c-477e-fcc3-8ddcf5cafd87"
      },
      "execution_count": 189,
      "outputs": [
        {
          "output_type": "execute_result",
          "data": {
            "text/plain": [
              "array(['M', 'L', 'XS', 'S', 'XL', '26(Waist 72cm 28inch)', 'S.',\n",
              "       'S(bust 88cm)', 'XXS', 's', '29', nan, 'choose a size', 'XXXS',\n",
              "       'Base Coat', 'Size M', 'XXL', 'M.', 'XS.',\n",
              "       '100 x 100cm(39.3 x 39.3inch)', '2pcs', '4XL', '1', '25-S',\n",
              "       'Size-XXS', '5PAIRS', '35', 'Pack of 1', 'Size S', 'Size-S', '6XL',\n",
              "       '25', 'S/M(child)', '60', 'Size-XS', 'S (waist58-62cm)',\n",
              "       'SIZE XXS', '10 ml', 'X   L', 'Women Size 36', '04-3XL',\n",
              "       'Size -XXS', '1 pc.', 'Floating Chair for Kid', 'S Pink', '34',\n",
              "       'US-S', 'Size XXS', 'pants-S', 'XXXXL', 'SIZE-XXS', 'SIZE XS',\n",
              "       '1pc', 'Size S.', '100 cm', 'S..', 'Round', '4-5 Years', '5', '33',\n",
              "       '30 cm', '2', 'XXXXXL', '20PCS-10PAIRS', '2XL', 'Size-5XL',\n",
              "       'Size4XL', 'One Size', 'size S', 'Size/S', 'B', 'SizeL', '20pcs',\n",
              "       '1 PC - XL', 'Suit-S', 'Base & Top & Matte Top Coat',\n",
              "       'Baby Float Boat', '1m by 3m', 'SIZE S', 'White', '40 cm', '5XL',\n",
              "       '10pcs', 'H01', 'S(Pink & Black)', '32/L', 'daughter 24M', 'XXXL',\n",
              "       '4', '3XL', '80 X 200 CM', 'EU 35', '100pcs', 'first  generation',\n",
              "       'Size--S', 'SIZE-4XL', 'L.', 'Women Size 37', 'S Diameter 30cm',\n",
              "       'Size-L', 'AU plug Low quality', '3 layered anklet', '17',\n",
              "       'US 6.5 (EU 37)', 'US5.5-EU35', 'EU39(US8)', '36'], dtype=object)"
            ]
          },
          "metadata": {},
          "execution_count": 189
        }
      ]
    },
    {
      "cell_type": "markdown",
      "source": [
        "**Observasion:** There are some errors in labelling the size. \n",
        "\n",
        "> * Example (M = M.) but it is existed as 2 types.\n",
        "\n",
        "> I will deal with this column later if it is necessary."
      ],
      "metadata": {
        "id": "P_ycQBq8sHVA"
      }
    },
    {
      "cell_type": "code",
      "source": [
        "#display the output value counts for each unique value\n",
        "df['product_variation_size_id'].value_counts()"
      ],
      "metadata": {
        "colab": {
          "base_uri": "https://localhost:8080/"
        },
        "id": "spwZ1tl20Kai",
        "outputId": "fc6a3ba6-e05f-4402-a5cd-482c0b46a2b9"
      },
      "execution_count": 190,
      "outputs": [
        {
          "output_type": "execute_result",
          "data": {
            "text/plain": [
              "S                641\n",
              "XS               356\n",
              "M                200\n",
              "XXS              100\n",
              "L                 49\n",
              "                ... \n",
              "2                  1\n",
              "20PCS-10PAIRS      1\n",
              "Size-5XL           1\n",
              "Size/S             1\n",
              "36                 1\n",
              "Name: product_variation_size_id, Length: 106, dtype: int64"
            ]
          },
          "metadata": {},
          "execution_count": 190
        }
      ]
    },
    {
      "cell_type": "markdown",
      "source": [
        "**Observasion:** There are also some outliers in sizes should be handled."
      ],
      "metadata": {
        "id": "EtpQYlcs0Oe5"
      }
    },
    {
      "cell_type": "markdown",
      "source": [
        "###**origin_country**"
      ],
      "metadata": {
        "id": "MCAViASMzqEL"
      }
    },
    {
      "cell_type": "code",
      "source": [
        "#display the unique values for the column\n",
        "df['origin_country'].unique()"
      ],
      "metadata": {
        "colab": {
          "base_uri": "https://localhost:8080/"
        },
        "id": "1L_BGY4Q9lJX",
        "outputId": "95b3efd1-caa9-4978-c4f4-416469df9c0a"
      },
      "execution_count": 191,
      "outputs": [
        {
          "output_type": "execute_result",
          "data": {
            "text/plain": [
              "array(['CN', 'US', 'GB', nan, 'SG', 'VE', 'AT'], dtype=object)"
            ]
          },
          "metadata": {},
          "execution_count": 191
        }
      ]
    },
    {
      "cell_type": "code",
      "source": [
        "#display the output value counts for each unique value\n",
        "df['origin_country'].value_counts()"
      ],
      "metadata": {
        "colab": {
          "base_uri": "https://localhost:8080/"
        },
        "id": "z3maO5C4tROL",
        "outputId": "35160ded-9f3a-486e-eb0f-5381a149f675"
      },
      "execution_count": 192,
      "outputs": [
        {
          "output_type": "execute_result",
          "data": {
            "text/plain": [
              "CN    1516\n",
              "US      31\n",
              "VE       5\n",
              "SG       2\n",
              "GB       1\n",
              "AT       1\n",
              "Name: origin_country, dtype: int64"
            ]
          },
          "metadata": {},
          "execution_count": 192
        }
      ]
    },
    {
      "cell_type": "markdown",
      "source": [
        "**Observasion:** It is seemed that most of the products China is their origion country. So I can drop this column."
      ],
      "metadata": {
        "id": "awC_xauv_6Pd"
      }
    },
    {
      "cell_type": "markdown",
      "source": [
        "###**merchant_info_subtitle**"
      ],
      "metadata": {
        "id": "92bvmi4Ly3O-"
      }
    },
    {
      "cell_type": "code",
      "source": [
        "#display the unique values for the column\n",
        "df['merchant_info_subtitle'].unique()"
      ],
      "metadata": {
        "colab": {
          "base_uri": "https://localhost:8080/"
        },
        "id": "RKzDVAyW16Mf",
        "outputId": "bcbe642e-ca27-42de-fc54-3176f6d5fa44"
      },
      "execution_count": 193,
      "outputs": [
        {
          "output_type": "execute_result",
          "data": {
            "text/plain": [
              "array(['88 % avis positifs (66,644 notes)',\n",
              "       '91 % avis positifs (25,752 notes)',\n",
              "       '83 % avis positifs (3,897 notes)', ..., '(14,974 notes)',\n",
              "       '70 % avis positifs (572 notes)',\n",
              "       '87 % avis positifs (1,086 notes)'], dtype=object)"
            ]
          },
          "metadata": {},
          "execution_count": 193
        }
      ]
    },
    {
      "cell_type": "markdown",
      "source": [
        "**Observasion:** It shows the percentage of positive reviews from total number of reviews"
      ],
      "metadata": {
        "id": "AwfymcNP3AW4"
      }
    },
    {
      "cell_type": "code",
      "source": [
        "#display the output value counts for each unique value\n",
        "df['merchant_info_subtitle'].value_counts()"
      ],
      "metadata": {
        "colab": {
          "base_uri": "https://localhost:8080/"
        },
        "id": "MWrhrHF516TR",
        "outputId": "e4516a9b-e685-4b20-d989-55ae7d466430"
      },
      "execution_count": 194,
      "outputs": [
        {
          "output_type": "execute_result",
          "data": {
            "text/plain": [
              "83 % avis positifs (32,168 notes)    14\n",
              "86 % avis positifs (12,309 notes)    11\n",
              "87 % avis positifs (42,919 notes)     8\n",
              "85 % avis positifs (80,093 notes)     7\n",
              "84 % avis positifs (5,654 notes)      6\n",
              "                                     ..\n",
              "77 % avis positifs (849 notes)        1\n",
              "82 % avis positifs (870 notes)        1\n",
              "90 % avis positifs (6,033 notes)      1\n",
              "(12,913 notes)                        1\n",
              "87 % avis positifs (1,086 notes)      1\n",
              "Name: merchant_info_subtitle, Length: 1058, dtype: int64"
            ]
          },
          "metadata": {},
          "execution_count": 194
        }
      ]
    },
    {
      "cell_type": "markdown",
      "source": [
        "**Observasion:** I can make use of this column by taking the percentage of positive reviews."
      ],
      "metadata": {
        "id": "vRWDQ5j73eYe"
      }
    },
    {
      "cell_type": "markdown",
      "source": [
        "###**shipping_is_express**"
      ],
      "metadata": {
        "id": "umT6KsTd5wG1"
      }
    },
    {
      "cell_type": "code",
      "source": [
        "#display the unique values for the column\n",
        "df['shipping_is_express'].unique()"
      ],
      "metadata": {
        "colab": {
          "base_uri": "https://localhost:8080/"
        },
        "id": "niDyGr5a5CDZ",
        "outputId": "c256739f-21e1-4230-ec11-d4d6c65cd34c"
      },
      "execution_count": 195,
      "outputs": [
        {
          "output_type": "execute_result",
          "data": {
            "text/plain": [
              "array([0, 1])"
            ]
          },
          "metadata": {},
          "execution_count": 195
        }
      ]
    },
    {
      "cell_type": "code",
      "source": [
        "#display the output value counts for each unique value\n",
        "df['shipping_is_express'].value_counts()"
      ],
      "metadata": {
        "colab": {
          "base_uri": "https://localhost:8080/"
        },
        "id": "ViGUpDjk5LRS",
        "outputId": "bb3dddad-1778-4d80-bb0e-a873c1df22bb"
      },
      "execution_count": 196,
      "outputs": [
        {
          "output_type": "execute_result",
          "data": {
            "text/plain": [
              "0    1569\n",
              "1       4\n",
              "Name: shipping_is_express, dtype: int64"
            ]
          },
          "metadata": {},
          "execution_count": 196
        }
      ]
    },
    {
      "cell_type": "markdown",
      "source": [
        "**Observasion:** It seems that most of products arenot shipping express. So I can drop this cloumn."
      ],
      "metadata": {
        "id": "H5rENOSE5UFo"
      }
    },
    {
      "cell_type": "markdown",
      "source": [
        "###**shipping_option_name**"
      ],
      "metadata": {
        "id": "6lEbVwSn9UXG"
      }
    },
    {
      "cell_type": "code",
      "source": [
        "#display the unique values for the column\n",
        "df['shipping_option_name'].unique()"
      ],
      "metadata": {
        "colab": {
          "base_uri": "https://localhost:8080/"
        },
        "id": "GmgFzveb73BV",
        "outputId": "8bdbc84f-b35f-4f0e-90c4-f3ef6675d78b"
      },
      "execution_count": 197,
      "outputs": [
        {
          "output_type": "execute_result",
          "data": {
            "text/plain": [
              "array(['Livraison standard', 'Standard Shipping', 'الشحن القياسي',\n",
              "       'Expediere Standard', 'Envío normal', 'Standardowa wysyłka',\n",
              "       'Envio Padrão', 'Standardversand', 'Spedizione standard',\n",
              "       'Standart Gönderi', 'Livraison Express', 'ការដឹកជញ្ជូនតាមស្តង់ដារ',\n",
              "       'Стандартная доставка', 'การส่งสินค้ามาตรฐาน',\n",
              "       'Ekspresowa wysyłka'], dtype=object)"
            ]
          },
          "metadata": {},
          "execution_count": 197
        }
      ]
    },
    {
      "cell_type": "code",
      "source": [
        "#display the output value counts for each unique value\n",
        "df['shipping_option_name'].value_counts()"
      ],
      "metadata": {
        "colab": {
          "base_uri": "https://localhost:8080/"
        },
        "id": "R5YQCi_s79Ue",
        "outputId": "ca1664bb-5884-4810-c22e-b0ee95145598"
      },
      "execution_count": 198,
      "outputs": [
        {
          "output_type": "execute_result",
          "data": {
            "text/plain": [
              "Livraison standard         1508\n",
              "Standard Shipping            21\n",
              "Envio Padrão                  9\n",
              "Expediere Standard            6\n",
              "Envío normal                  5\n",
              "الشحن القياسي                 4\n",
              "Standardowa wysyłka           3\n",
              "Standardversand               3\n",
              "Livraison Express             3\n",
              "Стандартная доставка          3\n",
              "Spedizione standard           2\n",
              "Standart Gönderi              2\n",
              "การส่งสินค้ามาตรฐาน           2\n",
              "ការដឹកជញ្ជូនតាមស្តង់ដារ       1\n",
              "Ekspresowa wysyłka            1\n",
              "Name: shipping_option_name, dtype: int64"
            ]
          },
          "metadata": {},
          "execution_count": 198
        }
      ]
    },
    {
      "cell_type": "markdown",
      "source": [
        "**Observasion:** It seems that most of the products' shipping option name is (Livraison standard). So I can drop this column."
      ],
      "metadata": {
        "id": "5PyZMIx2794T"
      }
    },
    {
      "cell_type": "markdown",
      "source": [
        "###**inventory_total**"
      ],
      "metadata": {
        "id": "3TnR7LPo-Llc"
      }
    },
    {
      "cell_type": "code",
      "source": [
        "#display the unique values for the column\n",
        "df['inventory_total'].unique()"
      ],
      "metadata": {
        "colab": {
          "base_uri": "https://localhost:8080/"
        },
        "id": "hjI_qGrW9N9Z",
        "outputId": "0a60ff53-1c49-440a-f8e8-1e595a416468"
      },
      "execution_count": 199,
      "outputs": [
        {
          "output_type": "execute_result",
          "data": {
            "text/plain": [
              "array([50,  1,  9, 37,  2, 36, 24, 38, 30, 40])"
            ]
          },
          "metadata": {},
          "execution_count": 199
        }
      ]
    },
    {
      "cell_type": "code",
      "source": [
        "#display the output value counts for each unique value\n",
        "df['inventory_total'].value_counts()"
      ],
      "metadata": {
        "colab": {
          "base_uri": "https://localhost:8080/"
        },
        "id": "_N9E3E2f9sV0",
        "outputId": "6aa2f3cc-24eb-4913-abbf-2b59da28806a"
      },
      "execution_count": 200,
      "outputs": [
        {
          "output_type": "execute_result",
          "data": {
            "text/plain": [
              "50    1563\n",
              "2        2\n",
              "1        1\n",
              "9        1\n",
              "37       1\n",
              "36       1\n",
              "24       1\n",
              "38       1\n",
              "30       1\n",
              "40       1\n",
              "Name: inventory_total, dtype: int64"
            ]
          },
          "metadata": {},
          "execution_count": 200
        }
      ]
    },
    {
      "cell_type": "markdown",
      "source": [
        "**Observasion:** It seems that most of the products' inventory total value is 50. So I can drop this column."
      ],
      "metadata": {
        "id": "t24gEkrr948z"
      }
    },
    {
      "cell_type": "markdown",
      "source": [
        "#**Preprocessing Data**\n"
      ],
      "metadata": {
        "id": "MvlDhlGLuyLk"
      }
    },
    {
      "cell_type": "markdown",
      "source": [
        "##**Drop not important columns**\n",
        "\n",
        "\n"
      ],
      "metadata": {
        "id": "sWFxovZ60Myq"
      }
    },
    {
      "cell_type": "code",
      "source": [
        "#Drop some columns that have problems(one uique value,contain less values in other indices,have many missing values)\n",
        "#Also some columns that arenot important by sense like(id,merchant_id,merchant_title,merchant_name)\n",
        "df_new= df.drop(['currency_buyer','shipping_option_name','shipping_is_express','inventory_total','has_urgency_banner','urgency_text','origin_country',\n",
        "'merchant_title','merchant_name','merchant_id','merchant_profile_picture','theme','crawl_month','id'],axis=1) #'badges_count','badge_local_product','badge_product_quality','badge_fast_shipping'\n",
        "\n",
        "df_new.shape"
      ],
      "metadata": {
        "colab": {
          "base_uri": "https://localhost:8080/"
        },
        "id": "Qjf6BUupaZbK",
        "outputId": "737ec5e4-89df-43a5-83a7-a9fc50271710"
      },
      "execution_count": 201,
      "outputs": [
        {
          "output_type": "execute_result",
          "data": {
            "text/plain": [
              "(1573, 20)"
            ]
          },
          "metadata": {},
          "execution_count": 201
        }
      ]
    },
    {
      "cell_type": "markdown",
      "source": [
        "##**Feature Engineering & Adjusting some columns**"
      ],
      "metadata": {
        "id": "yrxnMvP5R5Xb"
      }
    },
    {
      "cell_type": "markdown",
      "source": [
        "###**Rating**"
      ],
      "metadata": {
        "id": "CvgXDrTPHuhT"
      }
    },
    {
      "cell_type": "code",
      "source": [
        "#replace the rate 6 with the close rate to it (5)\n",
        "df_new['rating']=df_new['rating'].replace(6.,5.)\n",
        "df_new['rating'].unique()"
      ],
      "metadata": {
        "colab": {
          "base_uri": "https://localhost:8080/"
        },
        "id": "miLT3E8LHy6q",
        "outputId": "f83e80d0-3701-45fd-abec-fda4e1ed737d"
      },
      "execution_count": 202,
      "outputs": [
        {
          "output_type": "execute_result",
          "data": {
            "text/plain": [
              "array([4., 3., 5., 2., 1., 0.])"
            ]
          },
          "metadata": {},
          "execution_count": 202
        }
      ]
    },
    {
      "cell_type": "markdown",
      "source": [
        "###**merchant_info_subtitle**"
      ],
      "metadata": {
        "id": "yp2lafo_F_pq"
      }
    },
    {
      "cell_type": "code",
      "source": [
        "#extracting the percentage from the 'merchant_info_subtitle' column\n",
        "import re\n",
        "def getPercentage(x): \n",
        "    match = re.search(r'\\d+%', str(x))\n",
        "    if match is None:\n",
        "        return None\n",
        "    else:\n",
        "        return float(match.group().rstrip(\"%\"))\n",
        "df_new['merchant_info_subtitle'] = df_new['merchant_info_subtitle'].str.replace(' ', '')\n",
        "df_new['merchant_positive_pct'] = df_new['merchant_info_subtitle'].apply(getPercentage)\n",
        "df_new['merchant_positive_pct'].head()"
      ],
      "metadata": {
        "colab": {
          "base_uri": "https://localhost:8080/"
        },
        "id": "VmApH23Xyfxp",
        "outputId": "eb6f17d9-98f7-450c-a49c-83deea982fda"
      },
      "execution_count": 203,
      "outputs": [
        {
          "output_type": "execute_result",
          "data": {
            "text/plain": [
              "0    88.0\n",
              "1    91.0\n",
              "2    83.0\n",
              "3    87.0\n",
              "4    91.0\n",
              "Name: merchant_positive_pct, dtype: float64"
            ]
          },
          "metadata": {},
          "execution_count": 203
        }
      ]
    },
    {
      "cell_type": "code",
      "source": [
        "#filling missing data with the mean\n",
        "df_new['merchant_positive_pct'].fillna((df_new['merchant_positive_pct'].mean()), inplace=True)"
      ],
      "metadata": {
        "id": "2zAyNG6Aykfh"
      },
      "execution_count": 204,
      "outputs": []
    },
    {
      "cell_type": "code",
      "source": [
        "#drop the original column\n",
        "df_new.drop(['merchant_info_subtitle'], axis=1, inplace=True)\n",
        "\n",
        "df_new.shape"
      ],
      "metadata": {
        "colab": {
          "base_uri": "https://localhost:8080/"
        },
        "id": "uYWn1D8nykqs",
        "outputId": "155d5bc2-753e-4d59-d786-a631b118d03e"
      },
      "execution_count": 205,
      "outputs": [
        {
          "output_type": "execute_result",
          "data": {
            "text/plain": [
              "(1573, 20)"
            ]
          },
          "metadata": {},
          "execution_count": 205
        }
      ]
    },
    {
      "cell_type": "markdown",
      "source": [
        "###**product_color**"
      ],
      "metadata": {
        "id": "UgQh2BL72Mqz"
      }
    },
    {
      "cell_type": "code",
      "source": [
        "#adjust colors label\n",
        "df_new['product_color'].replace('White','white', inplace=True)\n",
        "df_new['product_color'].replace('Black','black', inplace=True)\n",
        "df_new['product_color'].replace('RED','red', inplace=True)\n",
        "df_new['product_color'].replace('Blue','blue', inplace=True)\n",
        "df_new['product_color'].replace('grey','gray', inplace=True)"
      ],
      "metadata": {
        "id": "wKvq2Bm-44LR"
      },
      "execution_count": 206,
      "outputs": []
    },
    {
      "cell_type": "code",
      "source": [
        "df_new['product_color'].value_counts()"
      ],
      "metadata": {
        "colab": {
          "base_uri": "https://localhost:8080/"
        },
        "id": "UqgkDbPxu_L2",
        "outputId": "e44c2515-7f91-40f9-cc64-fdeb6f19bc8f"
      },
      "execution_count": 207,
      "outputs": [
        {
          "output_type": "execute_result",
          "data": {
            "text/plain": [
              "black               305\n",
              "white               257\n",
              "yellow              105\n",
              "blue                100\n",
              "pink                 99\n",
              "                   ... \n",
              "rosegold              1\n",
              "ivory                 1\n",
              "winered & yellow      1\n",
              "lightgrey             1\n",
              "gray & white          1\n",
              "Name: product_color, Length: 96, dtype: int64"
            ]
          },
          "metadata": {},
          "execution_count": 207
        }
      ]
    },
    {
      "cell_type": "code",
      "source": [
        "#filling missing data with the mode(black)\n",
        "df_new['product_color'].replace(np.nan,'black', inplace=True)"
      ],
      "metadata": {
        "id": "mTVY1v75uy8z"
      },
      "execution_count": 208,
      "outputs": []
    },
    {
      "cell_type": "markdown",
      "source": [
        "###**product_variation_size_id**\n",
        "\n"
      ],
      "metadata": {
        "id": "AZtMgfev2RvM"
      }
    },
    {
      "cell_type": "code",
      "source": [
        "#display unique values in column\n",
        "df_new['product_variation_size_id'].unique()"
      ],
      "metadata": {
        "colab": {
          "base_uri": "https://localhost:8080/"
        },
        "id": "3bjdntsoWB6l",
        "outputId": "bd9e5812-4f2e-4407-b159-0e81564e5a0f"
      },
      "execution_count": 209,
      "outputs": [
        {
          "output_type": "execute_result",
          "data": {
            "text/plain": [
              "array(['M', 'L', 'XS', 'S', 'XL', '26(Waist 72cm 28inch)', 'S.',\n",
              "       'S(bust 88cm)', 'XXS', 's', '29', nan, 'choose a size', 'XXXS',\n",
              "       'Base Coat', 'Size M', 'XXL', 'M.', 'XS.',\n",
              "       '100 x 100cm(39.3 x 39.3inch)', '2pcs', '4XL', '1', '25-S',\n",
              "       'Size-XXS', '5PAIRS', '35', 'Pack of 1', 'Size S', 'Size-S', '6XL',\n",
              "       '25', 'S/M(child)', '60', 'Size-XS', 'S (waist58-62cm)',\n",
              "       'SIZE XXS', '10 ml', 'X   L', 'Women Size 36', '04-3XL',\n",
              "       'Size -XXS', '1 pc.', 'Floating Chair for Kid', 'S Pink', '34',\n",
              "       'US-S', 'Size XXS', 'pants-S', 'XXXXL', 'SIZE-XXS', 'SIZE XS',\n",
              "       '1pc', 'Size S.', '100 cm', 'S..', 'Round', '4-5 Years', '5', '33',\n",
              "       '30 cm', '2', 'XXXXXL', '20PCS-10PAIRS', '2XL', 'Size-5XL',\n",
              "       'Size4XL', 'One Size', 'size S', 'Size/S', 'B', 'SizeL', '20pcs',\n",
              "       '1 PC - XL', 'Suit-S', 'Base & Top & Matte Top Coat',\n",
              "       'Baby Float Boat', '1m by 3m', 'SIZE S', 'White', '40 cm', '5XL',\n",
              "       '10pcs', 'H01', 'S(Pink & Black)', '32/L', 'daughter 24M', 'XXXL',\n",
              "       '4', '3XL', '80 X 200 CM', 'EU 35', '100pcs', 'first  generation',\n",
              "       'Size--S', 'SIZE-4XL', 'L.', 'Women Size 37', 'S Diameter 30cm',\n",
              "       'Size-L', 'AU plug Low quality', '3 layered anklet', '17',\n",
              "       'US 6.5 (EU 37)', 'US5.5-EU35', 'EU39(US8)', '36'], dtype=object)"
            ]
          },
          "metadata": {},
          "execution_count": 209
        }
      ]
    },
    {
      "cell_type": "code",
      "source": [
        "#adjust size label\n",
        "df_new['product_variation_size_id'].replace(['S.','s','size S','Size S.','Size/S',\n",
        "       'SIZE S','Size S','Suit-S','S..','Size S.''Size S','Size-S','25-S','S Pink',\n",
        "       'US-S','Size--S','S/M(child)','pants-S','S (waist58-62cm)','S(Pink & Black)',\n",
        "       'S Diameter 30cm'],'S', inplace=True)\n",
        "\n",
        "df_new['product_variation_size_id'].replace(['M.','Size M'],'M', inplace=True)\n",
        "df_new['product_variation_size_id'].replace(['SizeL','Size-L','L.','32/L'],'L', inplace=True)\n",
        "df_new['product_variation_size_id'].replace(['SIZE XXS','Size -XXS','Size XXS','SIZE-XXS','Size-XXS'],'XXS', inplace=True)\n",
        "df_new['product_variation_size_id'].replace(['X   L','1 PC - XL'],'XL', inplace=True)\n",
        "df_new['product_variation_size_id'].replace(['XS.','SIZE XS','Size-XS','S(bust 88cm)'],'XS', inplace=True)\n",
        "df_new['product_variation_size_id'].replace(['XXXXXL','Size-5XL'],'5XL', inplace=True)\n",
        "df_new['product_variation_size_id'].replace(['XXXXL','Size4XL','04-3XL','SIZE-4XL'],'4XL', inplace=True)\n",
        "df_new['product_variation_size_id'].replace('XXXL','3XL', inplace=True) \n",
        "\n",
        "\n",
        "df_new['product_variation_size_id'].replace(['choose a size','6XL' ,'26(Waist 72cm 28inch)', '29',\n",
        "      'Base Coat', '100 x 100cm(39.3 x 39.3inch)', '2pcs', '1', '5PAIRS', '35',\n",
        "       'Pack of 1', '25', '60', '10 ml', 'Women Size 36', '1 pc.',\n",
        "       'Floating Chair for Kid', '34', '1pc', '100 cm', 'Round','4-5 Years', '5',\n",
        "       '33', '30 cm', '2', '20PCS-10PAIRS','One Size', 'B', '20pcs', '4',\n",
        "       'Base & Top & Matte Top Coat', 'Baby Float Boat', '1m by 3m',\n",
        "       'White', '40 cm', '10pcs', 'H01','daughter 24M', '80 X 200 CM', 'EU 35',\n",
        "       '100pcs', 'first  generation',  'Women Size 37','AU plug Low quality',\n",
        "       '3 layered anklet', '17', 'US 6.5 (EU 37)', 'US5.5-EU35','EU39(US8)', '36'],'other', inplace=True) "
      ],
      "metadata": {
        "id": "uGrbYwMB_itk"
      },
      "execution_count": 210,
      "outputs": []
    },
    {
      "cell_type": "code",
      "source": [
        "#display unique values in column\n",
        "df_new['product_variation_size_id'].unique()"
      ],
      "metadata": {
        "colab": {
          "base_uri": "https://localhost:8080/"
        },
        "id": "LMxz9kjeOGQ5",
        "outputId": "b79a19f4-46ad-4bf4-882d-c5f4b010fdde"
      },
      "execution_count": 211,
      "outputs": [
        {
          "output_type": "execute_result",
          "data": {
            "text/plain": [
              "array(['M', 'L', 'XS', 'S', 'XL', 'other', 'XXS', nan, 'XXXS', 'XXL',\n",
              "       '4XL', '5XL', '2XL', '3XL'], dtype=object)"
            ]
          },
          "metadata": {},
          "execution_count": 211
        }
      ]
    },
    {
      "cell_type": "code",
      "source": [
        "df_new['product_variation_size_id'].value_counts()"
      ],
      "metadata": {
        "colab": {
          "base_uri": "https://localhost:8080/"
        },
        "id": "ixjyODwXvKpc",
        "outputId": "1e14aa98-2338-4d72-e732-b9fe3be199b5"
      },
      "execution_count": 212,
      "outputs": [
        {
          "output_type": "execute_result",
          "data": {
            "text/plain": [
              "S        691\n",
              "XS       371\n",
              "M        206\n",
              "XXS      107\n",
              "other     66\n",
              "L         55\n",
              "XL        19\n",
              "XXL       15\n",
              "4XL       11\n",
              "XXXS       6\n",
              "5XL        5\n",
              "2XL        4\n",
              "3XL        3\n",
              "Name: product_variation_size_id, dtype: int64"
            ]
          },
          "metadata": {},
          "execution_count": 212
        }
      ]
    },
    {
      "cell_type": "code",
      "source": [
        "#filling missing data with the mode(S)\n",
        "df_new['product_variation_size_id'].replace(np.nan,'S', inplace=True)"
      ],
      "metadata": {
        "id": "EY7fznk2vOoA"
      },
      "execution_count": 213,
      "outputs": []
    },
    {
      "cell_type": "markdown",
      "source": [
        "##**Dealing with catigorical columns**\n",
        "\n",
        "\n",
        "\n"
      ],
      "metadata": {
        "id": "wjttGf_Uj_9q"
      }
    },
    {
      "cell_type": "code",
      "source": [
        "#list of columns that contain catigorical values\n",
        "catigorical_cols= ['product_color','product_variation_size_id','tags']"
      ],
      "metadata": {
        "id": "imXfo-n982GH"
      },
      "execution_count": 214,
      "outputs": []
    },
    {
      "cell_type": "code",
      "source": [
        "#apply label encoder on catigorical data to be numerical data\n",
        "encoder= LabelEncoder()\n",
        "#encoder = OneHotEncoder()    #.toarray()\n",
        "\n",
        "for i in catigorical_cols:\n",
        "    df_new[i]= encoder.fit_transform(np.asarray(df_new[i]).reshape(-1,1))"
      ],
      "metadata": {
        "id": "llS0jDc682Ip",
        "colab": {
          "base_uri": "https://localhost:8080/"
        },
        "outputId": "a9a60d75-edae-492f-f493-9b0aa8f3721f"
      },
      "execution_count": 215,
      "outputs": [
        {
          "output_type": "stream",
          "name": "stderr",
          "text": [
            "/usr/local/lib/python3.7/dist-packages/sklearn/preprocessing/_label.py:115: DataConversionWarning: A column-vector y was passed when a 1d array was expected. Please change the shape of y to (n_samples, ), for example using ravel().\n",
            "  y = column_or_1d(y, warn=True)\n"
          ]
        }
      ]
    },
    {
      "cell_type": "markdown",
      "source": [
        "**#Result:** All object values have converted to integers"
      ],
      "metadata": {
        "id": "TDtY7pdfIgT1"
      }
    },
    {
      "cell_type": "code",
      "source": [
        "#making sure there are no object columns\n",
        "df_new.info()"
      ],
      "metadata": {
        "colab": {
          "base_uri": "https://localhost:8080/"
        },
        "id": "lZvdx7ZA48kA",
        "outputId": "72e479f4-9684-4f39-c6b0-bd1529e12d50"
      },
      "execution_count": 216,
      "outputs": [
        {
          "output_type": "stream",
          "name": "stdout",
          "text": [
            "<class 'pandas.core.frame.DataFrame'>\n",
            "RangeIndex: 1573 entries, 0 to 1572\n",
            "Data columns (total 20 columns):\n",
            " #   Column                        Non-Null Count  Dtype  \n",
            "---  ------                        --------------  -----  \n",
            " 0   price                         1573 non-null   float64\n",
            " 1   retail_price                  1573 non-null   int64  \n",
            " 2   units_sold                    1573 non-null   int64  \n",
            " 3   uses_ad_boosts                1573 non-null   int64  \n",
            " 4   rating                        1573 non-null   float64\n",
            " 5   rating_count                  1573 non-null   int64  \n",
            " 6   badges_count                  1573 non-null   int64  \n",
            " 7   badge_local_product           1573 non-null   int64  \n",
            " 8   badge_product_quality         1573 non-null   int64  \n",
            " 9   badge_fast_shipping           1573 non-null   int64  \n",
            " 10  tags                          1573 non-null   int64  \n",
            " 11  product_color                 1573 non-null   int64  \n",
            " 12  product_variation_size_id     1573 non-null   int64  \n",
            " 13  product_variation_inventory   1573 non-null   int64  \n",
            " 14  shipping_option_price         1573 non-null   int64  \n",
            " 15  countries_shipped_to          1573 non-null   int64  \n",
            " 16  merchant_rating_count         1573 non-null   int64  \n",
            " 17  merchant_rating               1573 non-null   float64\n",
            " 18  merchant_has_profile_picture  1573 non-null   int64  \n",
            " 19  merchant_positive_pct         1573 non-null   float64\n",
            "dtypes: float64(4), int64(16)\n",
            "memory usage: 245.9 KB\n"
          ]
        }
      ]
    },
    {
      "cell_type": "code",
      "source": [
        "#Looking for Negative Values\n",
        "(df_new < 0).values.any()"
      ],
      "metadata": {
        "id": "vcrirMpyIWLL",
        "colab": {
          "base_uri": "https://localhost:8080/"
        },
        "outputId": "cda67747-c659-4774-ce72-d28397eff020"
      },
      "execution_count": 217,
      "outputs": [
        {
          "output_type": "execute_result",
          "data": {
            "text/plain": [
              "False"
            ]
          },
          "metadata": {},
          "execution_count": 217
        }
      ]
    },
    {
      "cell_type": "markdown",
      "source": [
        "**#Result:** There are no negative values in the data."
      ],
      "metadata": {
        "id": "EkJxFu6_IoPA"
      }
    },
    {
      "cell_type": "markdown",
      "source": [
        "##**Dealing with Outliers**"
      ],
      "metadata": {
        "id": "CFGKxHqACcPR"
      }
    },
    {
      "cell_type": "markdown",
      "source": [
        "*1) Plotting the column wise distribution of the values*"
      ],
      "metadata": {
        "id": "pVvWbF1cFUrw"
      }
    },
    {
      "cell_type": "code",
      "source": [
        "#plot the histogram for each column\n",
        "%matplotlib inline\n",
        "df_new.hist(bins=30, figsize=(15, 15))\n",
        "plt.show()"
      ],
      "metadata": {
        "colab": {
          "base_uri": "https://localhost:8080/",
          "height": 54
        },
        "id": "sO1rFisUCgCd",
        "outputId": "afe8a830-1ca5-41b5-f736-9c5411ae9e20"
      },
      "execution_count": 218,
      "outputs": [
        {
          "output_type": "display_data",
          "data": {
            "image/png": "[encoded data removed]",
            "text/plain": [
              "<Figure size 1080x1080 with 20 Axes>"
            ]
          },
          "metadata": {
            "needs_background": "light"
          }
        }
      ]
    },
    {
      "cell_type": "markdown",
      "source": [
        "**Observation:** Many columns seems to possess outliers."
      ],
      "metadata": {
        "id": "qLO0lSYwCuka"
      }
    },
    {
      "cell_type": "markdown",
      "source": [
        " *2) Detection and Removal of Outliers from All Columns*"
      ],
      "metadata": {
        "id": "hM6-VmrgC3L6"
      }
    },
    {
      "cell_type": "code",
      "source": [
        "#Declaring Grubbs Test Function for Outlier Detection\n",
        "def outlier_cols_ram(x): \n",
        "    n = len(x)\n",
        "    mean_x = np.mean(x)\n",
        "    sd_x = np.std(x)\n",
        "    numerator = max(abs(x-mean_x))\n",
        "    g_calculated = numerator/sd_x\n",
        "    t_value = stats.t.ppf(1 - 0.05 / (2 * n), n - 2)\n",
        "    g_critical = ((n - 1) * np.sqrt(np.square(t_value))) / (np.sqrt(n) * np.sqrt(n - 2 + np.square(t_value)))\n",
        "    return col if (g_critical) < g_calculated else 0"
      ],
      "metadata": {
        "id": "R3FUEprOCgGL"
      },
      "execution_count": 219,
      "outputs": []
    },
    {
      "cell_type": "code",
      "source": [
        "#Finding all Columns with Outliers\n",
        "cols_with_outliers = []\n",
        "for col in df_new.columns:\n",
        "    outlier_col = outlier_cols_ram(df_new[col])\n",
        "    cols_with_outliers.append(outlier_col)\n",
        "\n",
        "while (cols_with_outliers.count(0)):\n",
        "    cols_with_outliers.remove(0)\n",
        "\n",
        "\n",
        "cols_with_outliers"
      ],
      "metadata": {
        "colab": {
          "base_uri": "https://localhost:8080/"
        },
        "id": "7NbdrBACCgJ4",
        "outputId": "cc3f2bca-8c34-4af4-a889-cdb5426f3edc"
      },
      "execution_count": 220,
      "outputs": [
        {
          "output_type": "execute_result",
          "data": {
            "text/plain": [
              "['price',\n",
              " 'retail_price',\n",
              " 'units_sold',\n",
              " 'rating_count',\n",
              " 'badges_count',\n",
              " 'badge_local_product',\n",
              " 'badge_fast_shipping',\n",
              " 'shipping_option_price',\n",
              " 'countries_shipped_to',\n",
              " 'merchant_rating_count',\n",
              " 'merchant_rating',\n",
              " 'merchant_positive_pct']"
            ]
          },
          "metadata": {},
          "execution_count": 220
        }
      ]
    },
    {
      "cell_type": "markdown",
      "source": [
        "**#Result:** Above columns possess outliers."
      ],
      "metadata": {
        "id": "OKqVb6gkGwMW"
      }
    },
    {
      "cell_type": "markdown",
      "source": [
        " *3) Removing Outliers from all the Columns (Performing Cubical Transformation)*"
      ],
      "metadata": {
        "id": "TvWI-C0QG4kx"
      }
    },
    {
      "cell_type": "code",
      "source": [
        "for col in cols_with_outliers:\n",
        "    df_new[col] = (df_new[col]**(1/3.7))"
      ],
      "metadata": {
        "id": "dwnKJcVeCgNS"
      },
      "execution_count": 221,
      "outputs": []
    },
    {
      "cell_type": "markdown",
      "source": [
        "*4) Verifying the Outlier removal from all the Columns*"
      ],
      "metadata": {
        "id": "tsr7sGDRHi6l"
      }
    },
    {
      "cell_type": "code",
      "source": [
        "any_outlier_col = []\n",
        "for col in cols_with_outliers:\n",
        "    outlier_col = outlier_cols_ram(df_new[col])\n",
        "    any_outlier_col.append(outlier_col)\n",
        "\n",
        "while (any_outlier_col.count(0)): \n",
        "    any_outlier_col.remove(0)\n",
        "\n",
        "any_outlier_col"
      ],
      "metadata": {
        "colab": {
          "base_uri": "https://localhost:8080/"
        },
        "id": "i-dnFT4vCgS9",
        "outputId": "c843859c-c4d5-4079-be45-23b85c3f1ae4"
      },
      "execution_count": 222,
      "outputs": [
        {
          "output_type": "execute_result",
          "data": {
            "text/plain": [
              "['price',\n",
              " 'badge_local_product',\n",
              " 'badge_fast_shipping',\n",
              " 'shipping_option_price',\n",
              " 'merchant_rating_count',\n",
              " 'merchant_rating',\n",
              " 'merchant_positive_pct']"
            ]
          },
          "metadata": {},
          "execution_count": 222
        }
      ]
    },
    {
      "cell_type": "markdown",
      "source": [
        "**#Result:** The above columns still possess outliers."
      ],
      "metadata": {
        "id": "i90gvjoUH0Kz"
      }
    },
    {
      "cell_type": "markdown",
      "source": [
        "*5) Individually removing outliers from 'any_outlier_col' columns*"
      ],
      "metadata": {
        "id": "k4TtzBzMIB_v"
      }
    },
    {
      "cell_type": "code",
      "source": [
        "#Declaring function for outlier detection.\n",
        "\n",
        "def grubbs_test(x):\n",
        "    n = len(x)\n",
        "    mean_x = np.mean(x)\n",
        "    sd_x = np.std(x)\n",
        "    numerator = max(abs(x-mean_x))\n",
        "    g_calculated = numerator/sd_x\n",
        "    print(\"Grubbs Calculated Value:\",g_calculated)\n",
        "    t_value = stats.t.ppf(1 - 0.05 / (2 * n), n - 2)\n",
        "    g_critical = ((n - 1) * np.sqrt(np.square(t_value))) / (np.sqrt(n) * np.sqrt(n - 2 + np.square(t_value)))\n",
        "    print(\"Grubbs Critical Value:\",g_critical)\n",
        "    if g_critical > g_calculated:\n",
        "        print(\"From grubbs_test we observe that calculated value is lesser than critical value, Accept null hypothesis and conclude that there is no outlier\\n\")\n",
        "    else:\n",
        "        print(\"From grubbs_test we observe that calculated value is greater than critical value, Reject null hypothesis and conclude that there is an outliers\\n\")\n",
        "\n"
      ],
      "metadata": {
        "id": "M1GDJWnfCgWH"
      },
      "execution_count": 223,
      "outputs": []
    },
    {
      "cell_type": "markdown",
      "source": [
        "*6.1) Removing Cubical Transform from Columns with Outliers*"
      ],
      "metadata": {
        "id": "RLG9PIUvIXW2"
      }
    },
    {
      "cell_type": "code",
      "source": [
        "for col in any_outlier_col:\n",
        "    df_new[col] = (df_new[col]**(3.7))  "
      ],
      "metadata": {
        "id": "igBsaTbaCgZe"
      },
      "execution_count": 224,
      "outputs": []
    },
    {
      "cell_type": "markdown",
      "source": [
        "*6.2) Removing Outlier from 'price' Column (Using Imputing)*"
      ],
      "metadata": {
        "id": "g-5JdodpIlns"
      }
    },
    {
      "cell_type": "code",
      "source": [
        "df_new['price'].value_counts()"
      ],
      "metadata": {
        "colab": {
          "base_uri": "https://localhost:8080/"
        },
        "id": "XW0dYhFVIkwF",
        "outputId": "d7b3954d-32f7-4d5d-84e9-747a43e82427"
      },
      "execution_count": 225,
      "outputs": [
        {
          "output_type": "execute_result",
          "data": {
            "text/plain": [
              "8.00     282\n",
              "11.00    202\n",
              "7.00     129\n",
              "9.00     126\n",
              "6.00     120\n",
              "        ... \n",
              "4.94       1\n",
              "1.84       1\n",
              "4.74       1\n",
              "3.74       1\n",
              "1.71       1\n",
              "Name: price, Length: 127, dtype: int64"
            ]
          },
          "metadata": {},
          "execution_count": 225
        }
      ]
    },
    {
      "cell_type": "code",
      "source": [
        "%matplotlib inline\n",
        "df_new['price'].hist(bins = 50, figsize=(10,7)) \n",
        "plt.show()"
      ],
      "metadata": {
        "colab": {
          "base_uri": "https://localhost:8080/",
          "height": 54
        },
        "id": "jj9aYByrIkzc",
        "outputId": "be4b3799-6e1e-41b1-df1c-cd0d8591d6a3"
      },
      "execution_count": 226,
      "outputs": [
        {
          "output_type": "display_data",
          "data": {
            "image/png": "[encoded data removed]",
            "text/plain": [
              "<Figure size 720x504 with 1 Axes>"
            ]
          },
          "metadata": {
            "needs_background": "light"
          }
        }
      ]
    },
    {
      "cell_type": "code",
      "source": [
        "for i in df_new['price']:\n",
        "    if i >= 22:\n",
        "        df_new['price'] = df_new['price'].replace(i, 22)\n",
        "df_new['price'].value_counts()"
      ],
      "metadata": {
        "colab": {
          "base_uri": "https://localhost:8080/"
        },
        "id": "xnZtgolEIk2p",
        "outputId": "7a175b75-d602-4a89-8da7-dbf59a051be7"
      },
      "execution_count": 227,
      "outputs": [
        {
          "output_type": "execute_result",
          "data": {
            "text/plain": [
              "8.00     282\n",
              "11.00    202\n",
              "7.00     129\n",
              "9.00     126\n",
              "6.00     120\n",
              "        ... \n",
              "1.84       1\n",
              "4.68       1\n",
              "4.74       1\n",
              "3.74       1\n",
              "1.71       1\n",
              "Name: price, Length: 122, dtype: int64"
            ]
          },
          "metadata": {},
          "execution_count": 227
        }
      ]
    },
    {
      "cell_type": "code",
      "source": [
        "grubbs_test(df_new['price'])"
      ],
      "metadata": {
        "colab": {
          "base_uri": "https://localhost:8080/"
        },
        "id": "Ic9rN6EkIk5z",
        "outputId": "03ba8da4-da3a-445c-8b02-fd543683221f"
      },
      "execution_count": 228,
      "outputs": [
        {
          "output_type": "stream",
          "name": "stdout",
          "text": [
            "Grubbs Calculated Value: 3.6331845571702077\n",
            "Grubbs Critical Value: 4.149500059915179\n",
            "From grubbs_test we observe that calculated value is lesser than critical value, Accept null hypothesis and conclude that there is no outlier\n",
            "\n"
          ]
        }
      ]
    },
    {
      "cell_type": "markdown",
      "source": [
        "*6.3) Removing Outlier from 'merchant_rating' Column (Using Imputing)*"
      ],
      "metadata": {
        "id": "X6a352hXJ0BD"
      }
    },
    {
      "cell_type": "code",
      "source": [
        "df_new['merchant_rating'].value_counts()"
      ],
      "metadata": {
        "colab": {
          "base_uri": "https://localhost:8080/"
        },
        "id": "7IQUREzKIk9M",
        "outputId": "f8ce1202-ecc4-4152-a9f5-ab79215a0663"
      },
      "execution_count": 229,
      "outputs": [
        {
          "output_type": "execute_result",
          "data": {
            "text/plain": [
              "3.884544    15\n",
              "4.045170    12\n",
              "4.006692     9\n",
              "3.867547     8\n",
              "4.105967     8\n",
              "            ..\n",
              "3.937343     1\n",
              "3.829268     1\n",
              "4.109024     1\n",
              "4.303985     1\n",
              "4.056169     1\n",
              "Name: merchant_rating, Length: 952, dtype: int64"
            ]
          },
          "metadata": {},
          "execution_count": 229
        }
      ]
    },
    {
      "cell_type": "code",
      "source": [
        "%matplotlib inline\n",
        "df_new['merchant_rating'].hist(bins = 50, figsize=(10,7)) \n",
        "plt.show()"
      ],
      "metadata": {
        "colab": {
          "base_uri": "https://localhost:8080/",
          "height": 54
        },
        "id": "4ehDMXJ4IlAl",
        "outputId": "c0b6ac2d-ca59-42ff-98f8-6361eb49a11e"
      },
      "execution_count": 230,
      "outputs": [
        {
          "output_type": "display_data",
          "data": {
            "image/png": "[encoded data removed]",
            "text/plain": [
              "<Figure size 720x504 with 1 Axes>"
            ]
          },
          "metadata": {
            "needs_background": "light"
          }
        }
      ]
    },
    {
      "cell_type": "code",
      "source": [
        "for i in df_new['merchant_rating']:\n",
        "    if i <= 3.3:\n",
        "        df_new['merchant_rating'] = df_new['merchant_rating'].replace(i, 3.3)\n",
        "    if i >= 4.3:\n",
        "        df_new['merchant_rating'] = df_new['merchant_rating'].replace(i, 4.4)\n",
        "df_new['merchant_rating'].value_counts()"
      ],
      "metadata": {
        "colab": {
          "base_uri": "https://localhost:8080/"
        },
        "id": "SEKjltV3KnFH",
        "outputId": "96ec7dca-cb03-4e4c-a363-f9dbfef4e359"
      },
      "execution_count": 231,
      "outputs": [
        {
          "output_type": "execute_result",
          "data": {
            "text/plain": [
              "4.400000    114\n",
              "3.884544     15\n",
              "4.045170     12\n",
              "3.300000     11\n",
              "4.006692      9\n",
              "           ... \n",
              "4.022944      1\n",
              "4.226463      1\n",
              "4.024055      1\n",
              "4.020408      1\n",
              "4.056169      1\n",
              "Name: merchant_rating, Length: 854, dtype: int64"
            ]
          },
          "metadata": {},
          "execution_count": 231
        }
      ]
    },
    {
      "cell_type": "code",
      "source": [
        "grubbs_test(df_new['merchant_rating'])"
      ],
      "metadata": {
        "colab": {
          "base_uri": "https://localhost:8080/"
        },
        "id": "t5eoSs4mKnIU",
        "outputId": "52a13a84-1335-426c-aeae-1259d5d1eafe"
      },
      "execution_count": 232,
      "outputs": [
        {
          "output_type": "stream",
          "name": "stdout",
          "text": [
            "Grubbs Calculated Value: 3.715543077842438\n",
            "Grubbs Critical Value: 4.149500059915179\n",
            "From grubbs_test we observe that calculated value is lesser than critical value, Accept null hypothesis and conclude that there is no outlier\n",
            "\n"
          ]
        }
      ]
    },
    {
      "cell_type": "markdown",
      "source": [
        "*6.4) Removing Outlier from ''shipping_option_price'' Column (Using Imputing)*"
      ],
      "metadata": {
        "id": "lRUGR9K4Lsir"
      }
    },
    {
      "cell_type": "code",
      "source": [
        "df_new['shipping_option_price'].value_counts()"
      ],
      "metadata": {
        "colab": {
          "base_uri": "https://localhost:8080/"
        },
        "id": "WUZ-hhooKnL9",
        "outputId": "b163eb22-4967-46c8-e81a-8d6fdf45ae9a"
      },
      "execution_count": 233,
      "outputs": [
        {
          "output_type": "execute_result",
          "data": {
            "text/plain": [
              "2.0     619\n",
              "3.0     520\n",
              "1.0     308\n",
              "4.0      76\n",
              "5.0      32\n",
              "6.0      12\n",
              "7.0       5\n",
              "12.0      1\n",
              "Name: shipping_option_price, dtype: int64"
            ]
          },
          "metadata": {},
          "execution_count": 233
        }
      ]
    },
    {
      "cell_type": "code",
      "source": [
        "%matplotlib inline\n",
        "df_new['shipping_option_price'].hist(bins = 50, figsize=(10,7)) \n",
        "plt.show()"
      ],
      "metadata": {
        "colab": {
          "base_uri": "https://localhost:8080/",
          "height": 54
        },
        "id": "Z9UQrlCgKnOx",
        "outputId": "6462da18-3841-4b67-a1ea-05f6b4c95b43"
      },
      "execution_count": 234,
      "outputs": [
        {
          "output_type": "display_data",
          "data": {
            "image/png": "[encoded data removed]",
            "text/plain": [
              "<Figure size 720x504 with 1 Axes>"
            ]
          },
          "metadata": {
            "needs_background": "light"
          }
        }
      ]
    },
    {
      "cell_type": "code",
      "source": [
        "\n",
        "for i in df_new['shipping_option_price']:\n",
        "    if i >= 7:\n",
        "        df_new['shipping_option_price'] = df_new['shipping_option_price'].replace(i, 6)\n",
        "df_new['shipping_option_price'].value_counts()"
      ],
      "metadata": {
        "colab": {
          "base_uri": "https://localhost:8080/"
        },
        "id": "Z1NRSYz8KnSK",
        "outputId": "d219f617-9e72-44cd-ae61-0f5d2b531b20"
      },
      "execution_count": 235,
      "outputs": [
        {
          "output_type": "execute_result",
          "data": {
            "text/plain": [
              "2.0    619\n",
              "3.0    520\n",
              "1.0    308\n",
              "4.0     76\n",
              "5.0     32\n",
              "6.0     12\n",
              "6.0      6\n",
              "Name: shipping_option_price, dtype: int64"
            ]
          },
          "metadata": {},
          "execution_count": 235
        }
      ]
    },
    {
      "cell_type": "code",
      "source": [
        "\n",
        "grubbs_test(df_new['shipping_option_price'])"
      ],
      "metadata": {
        "colab": {
          "base_uri": "https://localhost:8080/"
        },
        "id": "fTNvKTshMHkI",
        "outputId": "3d45e5c3-b9bc-4f5b-bc5d-3a5fa1ef1806"
      },
      "execution_count": 236,
      "outputs": [
        {
          "output_type": "stream",
          "name": "stdout",
          "text": [
            "Grubbs Calculated Value: 3.7152322269929408\n",
            "Grubbs Critical Value: 4.149500059915179\n",
            "From grubbs_test we observe that calculated value is lesser than critical value, Accept null hypothesis and conclude that there is no outlier\n",
            "\n"
          ]
        }
      ]
    },
    {
      "cell_type": "markdown",
      "source": [
        "*6.5) Removing Outlier from 'merchant_rating_count' Column (Using Imputing)*"
      ],
      "metadata": {
        "id": "sJBaB4FNMOex"
      }
    },
    {
      "cell_type": "code",
      "source": [
        "df_new['merchant_rating_count'].value_counts()"
      ],
      "metadata": {
        "colab": {
          "base_uri": "https://localhost:8080/"
        },
        "id": "qIqLOrjDMHna",
        "outputId": "12c73097-321e-48aa-8ae4-a76a2502a0cd"
      },
      "execution_count": 237,
      "outputs": [
        {
          "output_type": "execute_result",
          "data": {
            "text/plain": [
              "32168.0    15\n",
              "12309.0    12\n",
              "80093.0     9\n",
              "88193.0     8\n",
              "10600.0     8\n",
              "           ..\n",
              "5807.0      1\n",
              "8443.0      1\n",
              "2212.0      1\n",
              "8397.0      1\n",
              "1086.0      1\n",
              "Name: merchant_rating_count, Length: 917, dtype: int64"
            ]
          },
          "metadata": {},
          "execution_count": 237
        }
      ]
    },
    {
      "cell_type": "code",
      "source": [
        "%matplotlib inline\n",
        "df_new['merchant_rating_count'].hist(bins = 50, figsize=(10,7)) \n",
        "plt.show()"
      ],
      "metadata": {
        "colab": {
          "base_uri": "https://localhost:8080/",
          "height": 54
        },
        "id": "HGLjYA2MMHqy",
        "outputId": "6543e495-55f1-42ee-b139-62c56e31bd8c"
      },
      "execution_count": 238,
      "outputs": [
        {
          "output_type": "display_data",
          "data": {
            "image/png": "[encoded data removed]",
            "text/plain": [
              "<Figure size 720x504 with 1 Axes>"
            ]
          },
          "metadata": {
            "needs_background": "light"
          }
        }
      ]
    },
    {
      "cell_type": "code",
      "source": [
        "for i in df_new['merchant_rating_count']:\n",
        "    if i >= 160000:\n",
        "        df_new['merchant_rating_count'] = df_new['merchant_rating_count'].replace(i, 160000)\n",
        "df_new['merchant_rating_count'].value_counts()"
      ],
      "metadata": {
        "colab": {
          "base_uri": "https://localhost:8080/"
        },
        "id": "tiWPfwjUMHuT",
        "outputId": "98f1a1e1-c12a-4e69-ac33-acc773ebac69"
      },
      "execution_count": 239,
      "outputs": [
        {
          "output_type": "execute_result",
          "data": {
            "text/plain": [
              "160000.0    36\n",
              "32168.0     15\n",
              "12309.0     12\n",
              "80093.0      9\n",
              "10600.0      8\n",
              "            ..\n",
              "343.0        1\n",
              "8397.0       1\n",
              "4955.0       1\n",
              "1038.0       1\n",
              "1086.0       1\n",
              "Name: merchant_rating_count, Length: 898, dtype: int64"
            ]
          },
          "metadata": {},
          "execution_count": 239
        }
      ]
    },
    {
      "cell_type": "code",
      "source": [
        "grubbs_test(df_new['merchant_rating_count'])"
      ],
      "metadata": {
        "colab": {
          "base_uri": "https://localhost:8080/"
        },
        "id": "fLccj2L6M0bG",
        "outputId": "926c5d5a-effe-4937-e7cc-9a1e72acc988"
      },
      "execution_count": 240,
      "outputs": [
        {
          "output_type": "stream",
          "name": "stdout",
          "text": [
            "Grubbs Calculated Value: 3.9280013145950683\n",
            "Grubbs Critical Value: 4.149500059915179\n",
            "From grubbs_test we observe that calculated value is lesser than critical value, Accept null hypothesis and conclude that there is no outlier\n",
            "\n"
          ]
        }
      ]
    },
    {
      "cell_type": "markdown",
      "source": [
        "*6.6) Removing Outlier from 'merchant_positive_pct' Column (Using Imputing)*"
      ],
      "metadata": {
        "id": "uKN_t6r4M_PF"
      }
    },
    {
      "cell_type": "code",
      "source": [
        "df_new['merchant_positive_pct'].value_counts()"
      ],
      "metadata": {
        "colab": {
          "base_uri": "https://localhost:8080/"
        },
        "id": "47SR3mNNBDAd",
        "outputId": "7c73c6dc-0ba6-4a41-8f7b-e1af86f9ed92"
      },
      "execution_count": 241,
      "outputs": [
        {
          "output_type": "execute_result",
          "data": {
            "text/plain": [
              "85.410477     294\n",
              "86.000000     141\n",
              "85.000000     131\n",
              "87.000000     113\n",
              "88.000000     108\n",
              "84.000000     105\n",
              "83.000000      96\n",
              "89.000000      95\n",
              "82.000000      76\n",
              "90.000000      71\n",
              "91.000000      66\n",
              "81.000000      58\n",
              "80.000000      41\n",
              "92.000000      32\n",
              "79.000000      27\n",
              "93.000000      24\n",
              "94.000000      13\n",
              "78.000000      10\n",
              "77.000000      10\n",
              "73.000000      10\n",
              "95.000000      10\n",
              "75.000000       9\n",
              "76.000000       7\n",
              "70.000000       4\n",
              "71.000000       4\n",
              "74.000000       3\n",
              "65.000000       2\n",
              "68.000000       2\n",
              "53.000000       2\n",
              "100.000000      2\n",
              "97.000000       1\n",
              "33.000000       1\n",
              "56.000000       1\n",
              "61.000000       1\n",
              "59.000000       1\n",
              "96.000000       1\n",
              "67.000000       1\n",
              "Name: merchant_positive_pct, dtype: int64"
            ]
          },
          "metadata": {},
          "execution_count": 241
        }
      ]
    },
    {
      "cell_type": "code",
      "source": [
        "%matplotlib inline\n",
        "df_new['merchant_positive_pct'].hist(bins = 50, figsize=(10,7)) \n",
        "plt.show()"
      ],
      "metadata": {
        "colab": {
          "base_uri": "https://localhost:8080/",
          "height": 54
        },
        "id": "eayDw1NjBDJU",
        "outputId": "33b2a85c-04b9-4959-e441-aada797c64cc"
      },
      "execution_count": 242,
      "outputs": [
        {
          "output_type": "display_data",
          "data": {
            "image/png": "[encoded data removed]",
            "text/plain": [
              "<Figure size 720x504 with 1 Axes>"
            ]
          },
          "metadata": {
            "needs_background": "light"
          }
        }
      ]
    },
    {
      "cell_type": "code",
      "source": [
        "for i in df_new['merchant_positive_pct']:\n",
        "    if i <=70:\n",
        "        df_new['merchant_positive_pct'] = df_new['merchant_positive_pct'].replace(i,70)\n",
        "df_new['merchant_positive_pct'].value_counts()"
      ],
      "metadata": {
        "colab": {
          "base_uri": "https://localhost:8080/"
        },
        "id": "iYtWs0OkBDV8",
        "outputId": "2ec399cd-ba51-4488-ee5f-21f493006ef5"
      },
      "execution_count": 243,
      "outputs": [
        {
          "output_type": "execute_result",
          "data": {
            "text/plain": [
              "85.410477     294\n",
              "86.000000     141\n",
              "85.000000     131\n",
              "87.000000     113\n",
              "88.000000     108\n",
              "84.000000     105\n",
              "83.000000      96\n",
              "89.000000      95\n",
              "82.000000      76\n",
              "90.000000      71\n",
              "91.000000      66\n",
              "81.000000      58\n",
              "80.000000      41\n",
              "92.000000      32\n",
              "79.000000      27\n",
              "93.000000      24\n",
              "70.000000      15\n",
              "94.000000      13\n",
              "78.000000      10\n",
              "77.000000      10\n",
              "95.000000      10\n",
              "73.000000      10\n",
              "75.000000       9\n",
              "76.000000       7\n",
              "71.000000       4\n",
              "74.000000       3\n",
              "100.000000      2\n",
              "96.000000       1\n",
              "97.000000       1\n",
              "Name: merchant_positive_pct, dtype: int64"
            ]
          },
          "metadata": {},
          "execution_count": 243
        }
      ]
    },
    {
      "cell_type": "code",
      "source": [
        "grubbs_test(df_new['merchant_positive_pct'])"
      ],
      "metadata": {
        "colab": {
          "base_uri": "https://localhost:8080/"
        },
        "id": "IqrolUAFBf0I",
        "outputId": "5aff8de4-ac4c-4607-f062-084c4524227e"
      },
      "execution_count": 244,
      "outputs": [
        {
          "output_type": "stream",
          "name": "stdout",
          "text": [
            "Grubbs Calculated Value: 3.8512628924784624\n",
            "Grubbs Critical Value: 4.149500059915179\n",
            "From grubbs_test we observe that calculated value is lesser than critical value, Accept null hypothesis and conclude that there is no outlier\n",
            "\n"
          ]
        }
      ]
    },
    {
      "cell_type": "markdown",
      "source": [
        "##**Data Normalization**"
      ],
      "metadata": {
        "id": "5L2wSFGJ-q57"
      }
    },
    {
      "cell_type": "code",
      "source": [
        "# Histogram show that the feilds like `rating_count`, `units_sold`, `retail_price` are\n",
        "# highly skewed therefore taking their log to normalize the distribution.\n",
        "\n",
        "def getLog(x):\n",
        "    return np.log(x + 1)\n",
        "\n",
        "\n",
        "df_new['rating_count']  = df_new['rating_count'].apply(getLog)\n",
        "df_new['units_sold']  = df_new['units_sold'].apply(getLog)\n",
        "df_new['retail_price']  = df_new['retail_price'].apply(getLog)"
      ],
      "metadata": {
        "id": "JUmjwXfUp6yt"
      },
      "execution_count": 245,
      "outputs": []
    },
    {
      "cell_type": "markdown",
      "source": [
        "#**Split Train & Test files**"
      ],
      "metadata": {
        "id": "-wa9H12IDjjy"
      }
    },
    {
      "cell_type": "code",
      "source": [
        "train_index = df1.shape[0]             #number of rows train_new dataset \n",
        "train_data_cleaned = df_new.iloc[:train_index]    \n",
        "print(train_data_cleaned.shape)\n",
        "\n",
        "test_data_cleaned = df_new.iloc[train_index :]\n",
        "print(test_data_cleaned.shape)\n",
        "\n",
        "test_data_cleaned.drop('rating', axis=1, inplace=True)\n",
        "print(test_data_cleaned.shape)"
      ],
      "metadata": {
        "colab": {
          "base_uri": "https://localhost:8080/"
        },
        "id": "oHCnW7zUDqzg",
        "outputId": "2911ba04-b816-4e9e-9832-59564006dbf0"
      },
      "execution_count": 246,
      "outputs": [
        {
          "output_type": "stream",
          "name": "stdout",
          "text": [
            "(1094, 20)\n",
            "(479, 20)\n",
            "(479, 19)\n"
          ]
        },
        {
          "output_type": "stream",
          "name": "stderr",
          "text": [
            "/usr/local/lib/python3.7/dist-packages/pandas/core/frame.py:4913: SettingWithCopyWarning: \n",
            "A value is trying to be set on a copy of a slice from a DataFrame\n",
            "\n",
            "See the caveats in the documentation: https://pandas.pydata.org/pandas-docs/stable/user_guide/indexing.html#returning-a-view-versus-a-copy\n",
            "  errors=errors,\n"
          ]
        }
      ]
    },
    {
      "cell_type": "markdown",
      "source": [
        "#**Apply model on train file**"
      ],
      "metadata": {
        "id": "WnJMTrllvWLd"
      }
    },
    {
      "cell_type": "code",
      "source": [
        "# splitting data to features and label(rating)\n",
        "X_train = train_data_cleaned.drop('rating',axis=1)\n",
        "y_train = train_data_cleaned['rating']"
      ],
      "metadata": {
        "id": "t8MCscDnDBLd"
      },
      "execution_count": 247,
      "outputs": []
    },
    {
      "cell_type": "markdown",
      "source": [
        "**Observations**\n",
        "\n",
        "**Multinomial naive Bayes** assumes to have feature vector where each element represents the number of times it appears (or, very often, its frequency).*\n",
        "\n",
        "**The Gaussian Naive Bayes,** instead, is based on a continuous distribution and it's suitable for more generic classification tasks.*\n",
        "\n",
        "**The categorical Naive Bayes** is suitable for classification with discrete features that are categorically distributed. The categories of each feature are drawn from a categorical distribution.\n",
        "\n",
        "**So** (The categorical Naive Bayes) is the best suitable solution for our problem, but let me try the 3 to make sure from ny knowledge."
      ],
      "metadata": {
        "id": "9rccjMyrpz7b"
      }
    },
    {
      "cell_type": "code",
      "source": [
        "#using different 3 objects from Naive bayes algorithm to train the model\n",
        "GNB= MultinomialNB()   #Gaussian Naive Bayes\n",
        "MNB= MultinomialNB()   # Multinomial Naive Bayes\n",
        "CNB= CategoricalNB()   # Categorical Naive Bayes\n",
        "\n",
        "#fitting the models on data\n",
        "GNB.fit(X_train, y_train)\n",
        "MNB.fit(X_train, y_train)\n",
        "CNB.fit(X_train, y_train)"
      ],
      "metadata": {
        "id": "AwicCm8qU2Iv",
        "colab": {
          "base_uri": "https://localhost:8080/"
        },
        "outputId": "05bb8b83-304b-4a47-a6b8-5b8ac06800ce"
      },
      "execution_count": 248,
      "outputs": [
        {
          "output_type": "execute_result",
          "data": {
            "text/plain": [
              "CategoricalNB()"
            ]
          },
          "metadata": {},
          "execution_count": 248
        }
      ]
    },
    {
      "cell_type": "code",
      "source": [
        "#predict the output of the train file from the 3 models\n",
        "y_GNB= GNB.predict(X_train)\n",
        "y_MNB= MNB.predict(X_train)\n",
        "y_CNB= CNB.predict(X_train)"
      ],
      "metadata": {
        "id": "CzPbaZ17U2Lg"
      },
      "execution_count": 249,
      "outputs": []
    },
    {
      "cell_type": "markdown",
      "source": [
        "*Gaussian*"
      ],
      "metadata": {
        "id": "tWOuFb99jdle"
      }
    },
    {
      "cell_type": "code",
      "source": [
        "#display the train accuracy\n",
        "acc= accuracy_score(y_train,y_GNB)\n",
        "print('Train Accuracy: ',acc,'\\n')\n",
        "\n",
        "#display the train f1 score\n",
        "f1= f1_score(y_train, y_GNB, average='weighted')\n",
        "print('Train f1 score: ',f1,'\\n')"
      ],
      "metadata": {
        "colab": {
          "base_uri": "https://localhost:8080/"
        },
        "id": "u7PvA6lejZx5",
        "outputId": "c931efce-ebe5-4792-a726-2a7824b59aa3"
      },
      "execution_count": 250,
      "outputs": [
        {
          "output_type": "stream",
          "name": "stdout",
          "text": [
            "Train Accuracy:  0.26508226691042047 \n",
            "\n",
            "Train f1 score:  0.3708000752371386 \n",
            "\n"
          ]
        }
      ]
    },
    {
      "cell_type": "markdown",
      "source": [
        "*Multinominal*"
      ],
      "metadata": {
        "id": "95WRxYC8jh_j"
      }
    },
    {
      "cell_type": "code",
      "source": [
        "#display the train accuracy\n",
        "acc= accuracy_score(y_train,y_MNB)\n",
        "print('Train Accuracy: ',acc,'\\n')\n",
        "\n",
        "#display the train f1 score\n",
        "f1= f1_score(y_train, y_MNB, average='weighted')\n",
        "print('Train f1 score: ',f1,'\\n')"
      ],
      "metadata": {
        "colab": {
          "base_uri": "https://localhost:8080/"
        },
        "id": "Jd-ug74fjZ9z",
        "outputId": "7c54cd0f-2eba-4e83-daa2-16122b54baef"
      },
      "execution_count": 251,
      "outputs": [
        {
          "output_type": "stream",
          "name": "stdout",
          "text": [
            "Train Accuracy:  0.26508226691042047 \n",
            "\n",
            "Train f1 score:  0.3708000752371386 \n",
            "\n"
          ]
        }
      ]
    },
    {
      "cell_type": "markdown",
      "source": [
        "*CategoricalNB*"
      ],
      "metadata": {
        "id": "sj_4SaZ1jpjr"
      }
    },
    {
      "cell_type": "code",
      "source": [
        "#display the train accuracy\n",
        "acc= accuracy_score(y_train,y_CNB)\n",
        "print('Train Accuracy: ',acc,'\\n')\n",
        "\n",
        "#display the train f1 score\n",
        "f1= f1_score(y_train, y_CNB, average='weighted')\n",
        "print('Train f1 score: ',f1,'\\n')"
      ],
      "metadata": {
        "colab": {
          "base_uri": "https://localhost:8080/"
        },
        "id": "aXvbdHAEjaJ2",
        "outputId": "f37fdf7b-76d7-4f27-906e-a46db478481e"
      },
      "execution_count": 252,
      "outputs": [
        {
          "output_type": "stream",
          "name": "stdout",
          "text": [
            "Train Accuracy:  0.8829981718464351 \n",
            "\n",
            "Train f1 score:  0.8734250436092282 \n",
            "\n"
          ]
        }
      ]
    },
    {
      "cell_type": "markdown",
      "source": [
        "**#Result** The categorical Naive Bayes is the best model out of the 3 models in our problem."
      ],
      "metadata": {
        "id": "57TrpXExfu4b"
      }
    },
    {
      "cell_type": "markdown",
      "source": [
        "#**Apply model on test file**"
      ],
      "metadata": {
        "id": "Gu6nmHDxTOoh"
      }
    },
    {
      "cell_type": "code",
      "source": [
        "#predict the output of the test file & saving it in csv file called('pred_walkthrough)\n",
        "sample=pd.read_csv('/content/sample_submission_new.csv')\n",
        "sample['id']\n",
        "\n",
        "pred_test = CNB.predict(test_data_cleaned)\n",
        "pred_df = pd.DataFrame(data={'id': np.asarray( sample['id']), 'rating': pred_test})\n",
        "pred_df.to_csv('pred_walkthrough.csv', index=False)"
      ],
      "metadata": {
        "id": "_OnGsWbsTvmr"
      },
      "execution_count": 253,
      "outputs": []
    },
    {
      "cell_type": "code",
      "source": [
        "y_pred= pd.DataFrame(np.array(pred_test))\n",
        "y_pred.value_counts()"
      ],
      "metadata": {
        "colab": {
          "base_uri": "https://localhost:8080/"
        },
        "id": "CdyosD647GkV",
        "outputId": "ff2d1e2f-52ec-4524-b574-4e70f575a4b0"
      },
      "execution_count": 254,
      "outputs": [
        {
          "output_type": "execute_result",
          "data": {
            "text/plain": [
              "4.0    388\n",
              "5.0     51\n",
              "3.0     40\n",
              "dtype: int64"
            ]
          },
          "metadata": {},
          "execution_count": 254
        }
      ]
    },
    {
      "cell_type": "markdown",
      "source": [
        "#**Hint**\n",
        "\n",
        "* Naive Bayes algorithm is NOT affected by feature magnitude, hence Naive Bayes does not need feature scaling."
      ],
      "metadata": {
        "id": "ia1jV6Q5pYAu"
      }
    }
  ]
}